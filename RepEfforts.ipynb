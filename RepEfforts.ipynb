{
 "cells": [
  {
   "cell_type": "code",
   "execution_count": 1,
   "metadata": {},
   "outputs": [
    {
     "name": "stderr",
     "output_type": "stream",
     "text": [
      "WARNING (pytensor.tensor.blas): Using NumPy C-API based implementation for BLAS functions.\n"
     ]
    },
    {
     "data": {
      "application/javascript": "IPython.notebook.set_autosave_interval(20000)"
     },
     "metadata": {},
     "output_type": "display_data"
    },
    {
     "name": "stdout",
     "output_type": "stream",
     "text": [
      "Autosaving every 20 seconds\n",
      "Creating output directories\n"
     ]
    }
   ],
   "source": [
    "import tabula\n",
    "import numpy as np\n",
    "import pymc as pm\n",
    "import arviz as az\n",
    "import numpy as np\n",
    "import scipy as sp\n",
    "import seaborn as sns\n",
    "import matplotlib.pyplot as plt\n",
    "from src.theory_sims import *\n",
    "from tqdm.notebook import tqdm\n",
    "import pandas as pd\n",
    "import pytensor.tensor as at\n",
    "import pyreadstat\n",
    "from scipy.stats import norm\n",
    "from scipy import stats\n",
    "from src.figures import plot_prior_ppd\n",
    "import os\n",
    "%autosave 20\n",
    "\n",
    "\n",
    "\n",
    "print('Creating output directories')\n",
    "for directory in [\"./output/\", \"./output/figures/\", \"./output/tables\", \"output/results\", \"output/generated\", \"output/tables\"]:\n",
    "    if not os.path.exists(directory):\n",
    "        os.makedirs(directory)"
   ]
  },
  {
   "cell_type": "markdown",
   "metadata": {},
   "source": [
    "# Analysis of replication efforts "
   ]
  },
  {
   "cell_type": "markdown",
   "metadata": {},
   "source": [
    "## Social Science Data Preparation \n",
    "\n",
    "To evaluate our model's predictions, we will leverage data from seven replicability efforts within the social sciences. Although each of these provide consolidated data, the format varies from .csv files to .pdfs, as does which features are included and which must be estimated. Our model solely requires knowing whether an outcome was significant and the associated sample size, such that we will extract these quantities. Moreover, we will only examine results for which the original study was significant at $p<.05$ in accordance with our model. Below, we briefly describe each dataset and the steps we took when extacting data. Once extracted, we save the generated data into `/generated/filename.csv`"
   ]
  },
  {
   "cell_type": "markdown",
   "metadata": {},
   "source": [
    "### RPP Psychology (OSC 2015)"
   ]
  },
  {
   "cell_type": "code",
   "execution_count": 2,
   "metadata": {},
   "outputs": [
    {
     "data": {
      "text/html": [
       "<div>\n",
       "<style scoped>\n",
       "    .dataframe tbody tr th:only-of-type {\n",
       "        vertical-align: middle;\n",
       "    }\n",
       "\n",
       "    .dataframe tbody tr th {\n",
       "        vertical-align: top;\n",
       "    }\n",
       "\n",
       "    .dataframe thead th {\n",
       "        text-align: right;\n",
       "    }\n",
       "</style>\n",
       "<table border=\"1\" class=\"dataframe\">\n",
       "  <thead>\n",
       "    <tr style=\"text-align: right;\">\n",
       "      <th></th>\n",
       "      <th>n</th>\n",
       "      <th>Author</th>\n",
       "      <th>Year</th>\n",
       "      <th>Sig</th>\n",
       "    </tr>\n",
       "  </thead>\n",
       "  <tbody>\n",
       "    <tr>\n",
       "      <th>0</th>\n",
       "      <td>29.0</td>\n",
       "      <td>OSC</td>\n",
       "      <td>2015</td>\n",
       "      <td>0.0</td>\n",
       "    </tr>\n",
       "    <tr>\n",
       "      <th>1</th>\n",
       "      <td>24.0</td>\n",
       "      <td>OSC</td>\n",
       "      <td>2015</td>\n",
       "      <td>0.0</td>\n",
       "    </tr>\n",
       "    <tr>\n",
       "      <th>2</th>\n",
       "      <td>32.0</td>\n",
       "      <td>OSC</td>\n",
       "      <td>2015</td>\n",
       "      <td>0.0</td>\n",
       "    </tr>\n",
       "    <tr>\n",
       "      <th>3</th>\n",
       "      <td>270.0</td>\n",
       "      <td>OSC</td>\n",
       "      <td>2015</td>\n",
       "      <td>0.0</td>\n",
       "    </tr>\n",
       "    <tr>\n",
       "      <th>4</th>\n",
       "      <td>48.0</td>\n",
       "      <td>OSC</td>\n",
       "      <td>2015</td>\n",
       "      <td>0.0</td>\n",
       "    </tr>\n",
       "  </tbody>\n",
       "</table>\n",
       "</div>"
      ],
      "text/plain": [
       "       n Author  Year  Sig\n",
       "0   29.0    OSC  2015  0.0\n",
       "1   24.0    OSC  2015  0.0\n",
       "2   32.0    OSC  2015  0.0\n",
       "3  270.0    OSC  2015  0.0\n",
       "4   48.0    OSC  2015  0.0"
      ]
     },
     "execution_count": 2,
     "metadata": {},
     "output_type": "execute_result"
    }
   ],
   "source": [
    "#papermill_description=DataWrangling\n",
    "\n",
    "# Open File\n",
    "rpp_data = pd.read_csv(\"dat/rpp_data.csv\", encoding=\"latin1\")\n",
    "\n",
    "# Include all replications with original p-value < .05 and a replication p-value\n",
    "rpp_data = rpp_data.dropna(subset=[\"T_pval_USE..R.\"])\n",
    "rpp_data = rpp_data[rpp_data[\"T_pval_USE..O.\"] < 0.05]\n",
    "# Extract relevant data\n",
    "rpp_subset = pd.DataFrame(\n",
    "    {\n",
    "        \"n\": rpp_data[\"N (R)\"],\n",
    "        \"Author\": \"OSC\",\n",
    "        \"Year\": 2015,\n",
    "        \"Sig\": 1.0 * (rpp_data[\"T_pval_USE..R.\"].values < 0.05),\n",
    "    }\n",
    ")\n",
    "\n",
    "# Save and display head\n",
    "rpp_subset.to_csv(\"./output/generated/OSC2014.csv\")\n",
    "rpp_subset.head()\n"
   ]
  },
  {
   "attachments": {},
   "cell_type": "markdown",
   "metadata": {},
   "source": [
    "### Protzko Et al. 2023\n",
    "Protzko Et al. 2023 is distinct from other replicability efforts in that it did not retrospectively survey the literature but instead took a prospective approach \\cite{ProtzkoHighAchievable}. Briefly, a group of four labs engaged in rounds of pilot experiments to select sixteen studies which exhibited statistical significance. The selected studies were then subjected to a round of confirmation at larger sample sizes, $N\\approx1500$. Of the confirmatory studies, 13 of 16 achieved statistical significance. \n",
    "\n",
    "Each of the hypotheses, regardless of the confirmatory study's outcomes were subjected to an additional four rounds of replication, of which one consisted of a self-replication. We used their publicly provided data for the analysis, and adapted their code to estimate significance (Data: \\href{https://osf.io/xqw7e}, Code: \\href{https://osf.io/k8er6}). As our model assumes a publication filter, we exclude the replications of studies for which the original finding was null. Moreover, we exclude self-replications as the remainder of data in our dataset consists of independent replications. This leaves 39 replications, of which 35 (89\\%) were significant. \n",
    "\n",
    "It is worth noting that, at the time of our analysis there had been concerns raised regarding the published paper's ``preregistration and corresponding reporting of hypotheses, predictions, and analyses''. These concerns resulted in an editorial investigation, which at the time of writing remains ongoing. As these concerns do not relate to the integrity of the raw data, we felt inclusion was warranted regardless of the editorial investigations' outcome. "
   ]
  },
  {
   "cell_type": "code",
   "execution_count": 3,
   "metadata": {},
   "outputs": [
    {
     "data": {
      "text/html": [
       "<div>\n",
       "<style scoped>\n",
       "    .dataframe tbody tr th:only-of-type {\n",
       "        vertical-align: middle;\n",
       "    }\n",
       "\n",
       "    .dataframe tbody tr th {\n",
       "        vertical-align: top;\n",
       "    }\n",
       "\n",
       "    .dataframe thead th {\n",
       "        text-align: right;\n",
       "    }\n",
       "</style>\n",
       "<table border=\"1\" class=\"dataframe\">\n",
       "  <thead>\n",
       "    <tr style=\"text-align: right;\">\n",
       "      <th></th>\n",
       "      <th>n</th>\n",
       "      <th>Author</th>\n",
       "      <th>Year</th>\n",
       "      <th>Sig</th>\n",
       "    </tr>\n",
       "  </thead>\n",
       "  <tbody>\n",
       "    <tr>\n",
       "      <th>1</th>\n",
       "      <td>2163</td>\n",
       "      <td>Protzko</td>\n",
       "      <td>2023</td>\n",
       "      <td>1.0</td>\n",
       "    </tr>\n",
       "    <tr>\n",
       "      <th>2</th>\n",
       "      <td>2309</td>\n",
       "      <td>Protzko</td>\n",
       "      <td>2023</td>\n",
       "      <td>1.0</td>\n",
       "    </tr>\n",
       "    <tr>\n",
       "      <th>3</th>\n",
       "      <td>2282</td>\n",
       "      <td>Protzko</td>\n",
       "      <td>2023</td>\n",
       "      <td>1.0</td>\n",
       "    </tr>\n",
       "    <tr>\n",
       "      <th>6</th>\n",
       "      <td>1619</td>\n",
       "      <td>Protzko</td>\n",
       "      <td>2023</td>\n",
       "      <td>0.0</td>\n",
       "    </tr>\n",
       "    <tr>\n",
       "      <th>7</th>\n",
       "      <td>1892</td>\n",
       "      <td>Protzko</td>\n",
       "      <td>2023</td>\n",
       "      <td>1.0</td>\n",
       "    </tr>\n",
       "  </tbody>\n",
       "</table>\n",
       "</div>"
      ],
      "text/plain": [
       "      n   Author  Year  Sig\n",
       "1  2163  Protzko  2023  1.0\n",
       "2  2309  Protzko  2023  1.0\n",
       "3  2282  Protzko  2023  1.0\n",
       "6  1619  Protzko  2023  0.0\n",
       "7  1892  Protzko  2023  1.0"
      ]
     },
     "execution_count": 3,
     "metadata": {},
     "output_type": "execute_result"
    }
   ],
   "source": [
    "# Open File\n",
    "df_protzko = pd.read_csv(\"dat/Protzko2023.csv\")\n",
    "\n",
    "# Calculate full sample size\n",
    "df_protzko[\"ne\"] = df_protzko[\"n2750e\"] + df_protzko[\"n1750e\"]\n",
    "df_protzko[\"nc\"] = df_protzko[\"n2750c\"] + df_protzko[\"n1750c\"]\n",
    "# Calculate variance\n",
    "v_basic = (\n",
    "    1 / df_protzko[\"ne\"]\n",
    "    + 1 / df_protzko[\"ne\"]\n",
    "    + df_protzko[\"d\"] ** 2 / (2 * (df_protzko[\"N\"] - 2))\n",
    ")\n",
    "\n",
    "# Loop through, using methods provided by Protko et all for estimating p-values.\n",
    "temp = []\n",
    "for idx in range(v_basic.shape[0]):\n",
    "    if np.isnan(df_protzko[\"sefull\"].iloc[idx]):\n",
    "        temp.append(v_basic.iloc[idx])\n",
    "    else:\n",
    "        temp.append(df_protzko[\"sefull\"].iloc[idx] ** 2)\n",
    "df_protzko[\"v\"] = temp\n",
    "df_protzko[\"pval\"] = 2 * (1 - norm.cdf(abs(df_protzko[\"d\"] / np.sqrt(df_protzko[\"v\"]))))\n",
    "\n",
    "# #Identify studies for which the confirmation is significant, drop those.\n",
    "originals = df_protzko[df_protzko[\"confirmation\"] == 1]\n",
    "studies_to_drop = originals[originals[\"pval\"] > 0.05][\"study\"]\n",
    "df_protzko = df_protzko[~df_protzko[\"study\"].isin(studies_to_drop)]\n",
    "\n",
    "# Include only independent replications.\n",
    "df_protzko = df_protzko[df_protzko[\"selfrep\"] == 0]\n",
    "df_protzko = df_protzko[df_protzko[\"confirmation\"] == 0]\n",
    "\n",
    "# Extract relevant data\n",
    "df_protzko_subset = pd.DataFrame(\n",
    "    {\n",
    "        \"n\": df_protzko[\"N\"].values,\n",
    "        \"Author\": \"Protzko\",\n",
    "        \"Year\": 2023,\n",
    "        \"Sig\": 1.0 * (df_protzko[\"pval\"] < 0.05),\n",
    "    }\n",
    ")\n",
    "\n",
    "# Save and display head\n",
    "df_protzko_subset.to_csv(\"./output/generated/Protzko2023.csv\")\n",
    "df_protzko_subset.head()\n"
   ]
  },
  {
   "cell_type": "markdown",
   "metadata": {},
   "source": [
    "### Soto 2019\n",
    "Soto's 2019 paper evaluated replicability of links between personality traits and consequential life outcomes. This is considerably distinct as the survey evaluates associations between traits rather than the effect of some experimental outcome.  Of the 78 trait-outcome associations, 87% were significant. These associations were measured using surveys administered to two groups with a median $N=1504$. The provided data provide columns directly indicating what we need for our model so little transformation is needed beyond dropping rows with missing values or that were not originally significant."
   ]
  },
  {
   "cell_type": "code",
   "execution_count": 4,
   "metadata": {},
   "outputs": [],
   "source": [
    "df_soto, meta = pyreadstat.read_sav(\"dat/Soto2019.sav\")\n"
   ]
  },
  {
   "cell_type": "code",
   "execution_count": 5,
   "metadata": {},
   "outputs": [
    {
     "data": {
      "text/html": [
       "<div>\n",
       "<style scoped>\n",
       "    .dataframe tbody tr th:only-of-type {\n",
       "        vertical-align: middle;\n",
       "    }\n",
       "\n",
       "    .dataframe tbody tr th {\n",
       "        vertical-align: top;\n",
       "    }\n",
       "\n",
       "    .dataframe thead th {\n",
       "        text-align: right;\n",
       "    }\n",
       "</style>\n",
       "<table border=\"1\" class=\"dataframe\">\n",
       "  <thead>\n",
       "    <tr style=\"text-align: right;\">\n",
       "      <th></th>\n",
       "      <th>n</th>\n",
       "      <th>Author</th>\n",
       "      <th>Year</th>\n",
       "      <th>Sig</th>\n",
       "    </tr>\n",
       "  </thead>\n",
       "  <tbody>\n",
       "    <tr>\n",
       "      <th>0</th>\n",
       "      <td>1559.0</td>\n",
       "      <td>Soto</td>\n",
       "      <td>2019</td>\n",
       "      <td>1</td>\n",
       "    </tr>\n",
       "    <tr>\n",
       "      <th>1</th>\n",
       "      <td>1559.0</td>\n",
       "      <td>Soto</td>\n",
       "      <td>2019</td>\n",
       "      <td>1</td>\n",
       "    </tr>\n",
       "    <tr>\n",
       "      <th>2</th>\n",
       "      <td>1550.0</td>\n",
       "      <td>Soto</td>\n",
       "      <td>2019</td>\n",
       "      <td>1</td>\n",
       "    </tr>\n",
       "    <tr>\n",
       "      <th>3</th>\n",
       "      <td>1514.0</td>\n",
       "      <td>Soto</td>\n",
       "      <td>2019</td>\n",
       "      <td>1</td>\n",
       "    </tr>\n",
       "    <tr>\n",
       "      <th>4</th>\n",
       "      <td>1514.0</td>\n",
       "      <td>Soto</td>\n",
       "      <td>2019</td>\n",
       "      <td>1</td>\n",
       "    </tr>\n",
       "    <tr>\n",
       "      <th>...</th>\n",
       "      <td>...</td>\n",
       "      <td>...</td>\n",
       "      <td>...</td>\n",
       "      <td>...</td>\n",
       "    </tr>\n",
       "    <tr>\n",
       "      <th>73</th>\n",
       "      <td>1505.0</td>\n",
       "      <td>Soto</td>\n",
       "      <td>2019</td>\n",
       "      <td>1</td>\n",
       "    </tr>\n",
       "    <tr>\n",
       "      <th>74</th>\n",
       "      <td>1505.0</td>\n",
       "      <td>Soto</td>\n",
       "      <td>2019</td>\n",
       "      <td>0</td>\n",
       "    </tr>\n",
       "    <tr>\n",
       "      <th>75</th>\n",
       "      <td>1505.0</td>\n",
       "      <td>Soto</td>\n",
       "      <td>2019</td>\n",
       "      <td>1</td>\n",
       "    </tr>\n",
       "    <tr>\n",
       "      <th>76</th>\n",
       "      <td>1505.0</td>\n",
       "      <td>Soto</td>\n",
       "      <td>2019</td>\n",
       "      <td>1</td>\n",
       "    </tr>\n",
       "    <tr>\n",
       "      <th>77</th>\n",
       "      <td>1505.0</td>\n",
       "      <td>Soto</td>\n",
       "      <td>2019</td>\n",
       "      <td>1</td>\n",
       "    </tr>\n",
       "  </tbody>\n",
       "</table>\n",
       "<p>75 rows × 4 columns</p>\n",
       "</div>"
      ],
      "text/plain": [
       "         n Author  Year  Sig\n",
       "0   1559.0   Soto  2019    1\n",
       "1   1559.0   Soto  2019    1\n",
       "2   1550.0   Soto  2019    1\n",
       "3   1514.0   Soto  2019    1\n",
       "4   1514.0   Soto  2019    1\n",
       "..     ...    ...   ...  ...\n",
       "73  1505.0   Soto  2019    1\n",
       "74  1505.0   Soto  2019    0\n",
       "75  1505.0   Soto  2019    1\n",
       "76  1505.0   Soto  2019    1\n",
       "77  1505.0   Soto  2019    1\n",
       "\n",
       "[75 rows x 4 columns]"
      ]
     },
     "execution_count": 5,
     "metadata": {},
     "output_type": "execute_result"
    }
   ],
   "source": [
    "# load Soto2019.sav https://osf.io/erynzf\n",
    "df_soto, meta = pyreadstat.read_sav(\"dat/Soto2019.sav\")\n",
    "df_soto = df_soto[df_soto[\"OriginalPValueByOutcome\"] < 0.05]\n",
    "df_soto.head()\n",
    "df_soto.dropna(subset=[\"ReplicationSuccessByOutcome\"], inplace=True)\n",
    "\n",
    "# No significant reversals so we can assume sig==success, p-vals not provided.\n",
    "soto_subset = pd.DataFrame(\n",
    "    {\n",
    "        \"n\": df_soto[\"ReplicationSampleSizeByOutcome\"],\n",
    "        \"Author\": \"Soto\",\n",
    "        \"Year\": 2019,\n",
    "        \"Sig\": df_soto[\"ReplicationSuccessByOutcome\"] == 1,\n",
    "    }\n",
    ")\n",
    "\n",
    "# There's some non 0/1 values in replicationsuccessbyoutcome based on suboutcomes so let's draw at random proportional to those\n",
    "soto_subset[\"Sig\"] = np.random.binomial(1, soto_subset[\"Sig\"], soto_subset.shape[0])\n",
    "soto_subset.to_csv(\"./output//generated/soto2019.csv\")\n",
    "soto_subset\n"
   ]
  },
  {
   "cell_type": "markdown",
   "metadata": {},
   "source": [
    "### Camerer 2016 \n",
    "Camerer's 2016 paper evaluated the replicability of laboratory experiments in economics. The team replicated 18 studies published between 2011 and 2014 in either the American Economic Review and the Quarterly Journal of Economics. Of these 18 studies, 11 (61%) replicated at $p<.05$. We include all studies which were originally significant at $p<.05$ and for which required data are provided. This left 17 of the 18 original effects. The median replication sample size for these effects was 144. "
   ]
  },
  {
   "cell_type": "code",
   "execution_count": 6,
   "metadata": {},
   "outputs": [
    {
     "name": "stderr",
     "output_type": "stream",
     "text": [
      "Failed to import jpype dependencies. Fallback to subprocess.\n",
      "No module named 'jpype'\n",
      "Got stderr: Jun 07, 2024 8:51:07 AM org.apache.pdfbox.pdmodel.font.PDType1Font <init>\n",
      "WARNING: Using fallback font LiberationSans for base font Symbol\n",
      "Jun 07, 2024 8:51:07 AM org.apache.pdfbox.pdmodel.font.PDType1Font <init>\n",
      "WARNING: Using fallback font LiberationSans for base font ZapfDingbats\n",
      "\n",
      "/tmp/ipykernel_1165453/272341601.py:12: FutureWarning: A value is trying to be set on a copy of a DataFrame or Series through chained assignment using an inplace method.\n",
      "The behavior will change in pandas 3.0. This inplace method will never work because the intermediate object on which we are setting values always behaves as a copy.\n",
      "\n",
      "For example, when doing 'df[col].method(value, inplace=True)', try using 'df.method({col: value}, inplace=True)' or df[col] = df[col].method(value) instead, to perform the operation inplace on the original object.\n",
      "\n",
      "\n",
      "  camerer_2016_raw[\"P-value\"].replace(\"<0.001\", 0.0009, inplace=True)\n"
     ]
    }
   ],
   "source": [
    "import pandas as pd\n",
    "\n",
    "tables = tabula.read_pdf(\"dat/Camerer2016.pdf\", pages=\"all\")\n",
    "tables[0].head()\n",
    "\n",
    "# select 'Unnamed: 4', 'Replication', 'Unnamed: 5' 'Replicated', and rename 'p-value', d, N, 'replicated'\n",
    "camerer_2016_raw = tables[0][[\"Unnamed: 4\", \"Replication\", \"Unnamed: 5\", \"Unnamed: 6\"]]\n",
    "camerer_2016_raw.columns = camerer_2016_raw.iloc[1]\n",
    "\n",
    "# drop the first two rows (empty)\n",
    "camerer_2016_raw = camerer_2016_raw.iloc[2:]\n",
    "camerer_2016_raw[\"P-value\"].replace(\"<0.001\", 0.0009, inplace=True)\n",
    "\n",
    "# Drop Ambrus and Greiner (not originally significant, index 3\n",
    "camerer_2016_raw = camerer_2016_raw.drop(3)\n",
    "\n",
    "camerer_2016_raw[\"P-value\"] = camerer_2016_raw[\"P-value\"].astype(\"float\")\n",
    "camerer_subset = pd.DataFrame(\n",
    "    {\n",
    "        \"n\": camerer_2016_raw[\"N\"].values,\n",
    "        \"Author\": \"Camerer\",\n",
    "        \"Year\": 2016,\n",
    "        \"Sig\": 1.0 * (camerer_2016_raw[\"P-value\"].values < 0.05),\n",
    "    }\n",
    ")\n",
    "camerer_subset.to_csv(\"./output/generated/camerer2016.csv\")\n"
   ]
  },
  {
   "cell_type": "markdown",
   "metadata": {},
   "source": [
    "### Cova 2021\n",
    "Cova et al's 2021 study examined the replicability of experimental philosophy \\cite{Cova2021EstimatingPhilosophy}. For each year between 2003 and 2015, the authors selected three studies to replicate. Although one was the most cited paper of the year, two were selected at random. For consistency with our criteria, we include only the randomly selected hypotheses although note that they did not find substantial differences between the two groups. Replications were carried out at median $N=200$. In total, 20 out of 23 random replications achieved statistical significance. "
   ]
  },
  {
   "cell_type": "code",
   "execution_count": 7,
   "metadata": {},
   "outputs": [],
   "source": [
    "Xphi = pd.read_csv(\"./dat/XPhi.csv\")\n",
    "\n",
    "# Drop missing sample sizes or nonrandom\n",
    "Xphi = Xphi.dropna(subset=[\"ReplicationN_Overall\"])\n",
    "Xphi = Xphi[Xphi[\"TYPE\"] == \"RANDOM\"]\n",
    "\n",
    "N = Xphi[\"ReplicationN_Overall\"]\n",
    "Sig = Xphi[\"ReplicationSUCCESS\"] == \"YES\"\n",
    "\n",
    "# Drop missing sample size rep\n",
    "\n",
    "Xphi_subset = pd.DataFrame({\"n\": N, \"Author\": \"Cova\", \"Year\": 2021, \"Sig\": Sig})\n",
    "Xphi_subset.to_csv(\"./output/generated/Xphi.csv\")\n"
   ]
  },
  {
   "cell_type": "markdown",
   "metadata": {},
   "source": [
    "### Camerer 2018"
   ]
  },
  {
   "cell_type": "code",
   "execution_count": 8,
   "metadata": {},
   "outputs": [
    {
     "data": {
      "text/html": [
       "<div>\n",
       "<style scoped>\n",
       "    .dataframe tbody tr th:only-of-type {\n",
       "        vertical-align: middle;\n",
       "    }\n",
       "\n",
       "    .dataframe tbody tr th {\n",
       "        vertical-align: top;\n",
       "    }\n",
       "\n",
       "    .dataframe thead th {\n",
       "        text-align: right;\n",
       "    }\n",
       "</style>\n",
       "<table border=\"1\" class=\"dataframe\">\n",
       "  <thead>\n",
       "    <tr style=\"text-align: right;\">\n",
       "      <th></th>\n",
       "      <th>n</th>\n",
       "      <th>Author</th>\n",
       "      <th>Year</th>\n",
       "      <th>Sig</th>\n",
       "    </tr>\n",
       "  </thead>\n",
       "  <tbody>\n",
       "    <tr>\n",
       "      <th>0</th>\n",
       "      <td>599</td>\n",
       "      <td>Camerer</td>\n",
       "      <td>2018</td>\n",
       "      <td>0.0</td>\n",
       "    </tr>\n",
       "    <tr>\n",
       "      <th>1</th>\n",
       "      <td>14</td>\n",
       "      <td>Camerer</td>\n",
       "      <td>2018</td>\n",
       "      <td>1.0</td>\n",
       "    </tr>\n",
       "    <tr>\n",
       "      <th>2</th>\n",
       "      <td>243</td>\n",
       "      <td>Camerer</td>\n",
       "      <td>2018</td>\n",
       "      <td>1.0</td>\n",
       "    </tr>\n",
       "    <tr>\n",
       "      <th>3</th>\n",
       "      <td>65</td>\n",
       "      <td>Camerer</td>\n",
       "      <td>2018</td>\n",
       "      <td>1.0</td>\n",
       "    </tr>\n",
       "    <tr>\n",
       "      <th>4</th>\n",
       "      <td>92</td>\n",
       "      <td>Camerer</td>\n",
       "      <td>2018</td>\n",
       "      <td>1.0</td>\n",
       "    </tr>\n",
       "  </tbody>\n",
       "</table>\n",
       "</div>"
      ],
      "text/plain": [
       "     n   Author  Year  Sig\n",
       "0  599  Camerer  2018  0.0\n",
       "1   14  Camerer  2018  1.0\n",
       "2  243  Camerer  2018  1.0\n",
       "3   65  Camerer  2018  1.0\n",
       "4   92  Camerer  2018  1.0"
      ]
     },
     "execution_count": 8,
     "metadata": {},
     "output_type": "execute_result"
    }
   ],
   "source": [
    "camerer_df = pd.read_csv(\"dat/Camerer2018.csv\")\n",
    "\n",
    "camerer_df = pd.read_csv(\"dat/Camerer2018.csv\")\n",
    "camerer_df.dropna(subset=[\"p_rp\", \"n_rp\"], inplace=True)\n",
    "camerer_df = camerer_df[camerer_df[\"p_os\"] < 0.05]\n",
    "cn = camerer_df[\"n_rp\"].values\n",
    "pn = camerer_df[\"p_rp\"].values\n",
    "# no reversals observed\n",
    "camerer_subset = pd.DataFrame(\n",
    "    {\"n\": cn, \"Author\": \"Camerer\", \"Year\": 2018, \"Sig\": 1.0 * (pn < 0.05)}\n",
    ")\n",
    "camerer_subset.to_csv(\"./output/generated/camerer2018.csv\")\n",
    "camerer_subset.head()\n",
    "\n",
    "camerer_subset.head()\n"
   ]
  },
  {
   "cell_type": "markdown",
   "metadata": {},
   "source": [
    "### Boyce 2023\n",
    "Boyce Et. al's 2023 paper summarizes the outcomes of student replications over eleven years. They argued that this sampling frame was more representative of the literature as it reflects the interest of practicing scientists, here their students. Their results consist of 176 replications spanning a wide range of topics, journals, and dates of the original paper including many studies conducted before and after widespread adoption of scientific reform. \n"
   ]
  },
  {
   "cell_type": "code",
   "execution_count": 9,
   "metadata": {},
   "outputs": [],
   "source": [
    "boyce_df = pd.read_csv(\"dat/Boyce2023.csv\")\n"
   ]
  },
  {
   "cell_type": "code",
   "execution_count": 10,
   "metadata": {},
   "outputs": [
    {
     "data": {
      "text/html": [
       "<div>\n",
       "<style scoped>\n",
       "    .dataframe tbody tr th:only-of-type {\n",
       "        vertical-align: middle;\n",
       "    }\n",
       "\n",
       "    .dataframe tbody tr th {\n",
       "        vertical-align: top;\n",
       "    }\n",
       "\n",
       "    .dataframe thead th {\n",
       "        text-align: right;\n",
       "    }\n",
       "</style>\n",
       "<table border=\"1\" class=\"dataframe\">\n",
       "  <thead>\n",
       "    <tr style=\"text-align: right;\">\n",
       "      <th></th>\n",
       "      <th>n</th>\n",
       "      <th>Author</th>\n",
       "      <th>Year</th>\n",
       "      <th>Sig</th>\n",
       "    </tr>\n",
       "  </thead>\n",
       "  <tbody>\n",
       "    <tr>\n",
       "      <th>0</th>\n",
       "      <td>88</td>\n",
       "      <td>Boyce</td>\n",
       "      <td>2023</td>\n",
       "      <td>0.0</td>\n",
       "    </tr>\n",
       "    <tr>\n",
       "      <th>1</th>\n",
       "      <td>225</td>\n",
       "      <td>Boyce</td>\n",
       "      <td>2023</td>\n",
       "      <td>0.0</td>\n",
       "    </tr>\n",
       "    <tr>\n",
       "      <th>2</th>\n",
       "      <td>40</td>\n",
       "      <td>Boyce</td>\n",
       "      <td>2023</td>\n",
       "      <td>0.0</td>\n",
       "    </tr>\n",
       "    <tr>\n",
       "      <th>3</th>\n",
       "      <td>209</td>\n",
       "      <td>Boyce</td>\n",
       "      <td>2023</td>\n",
       "      <td>0.0</td>\n",
       "    </tr>\n",
       "    <tr>\n",
       "      <th>4</th>\n",
       "      <td>198</td>\n",
       "      <td>Boyce</td>\n",
       "      <td>2023</td>\n",
       "      <td>0.0</td>\n",
       "    </tr>\n",
       "    <tr>\n",
       "      <th>...</th>\n",
       "      <td>...</td>\n",
       "      <td>...</td>\n",
       "      <td>...</td>\n",
       "      <td>...</td>\n",
       "    </tr>\n",
       "    <tr>\n",
       "      <th>66</th>\n",
       "      <td>56</td>\n",
       "      <td>Boyce</td>\n",
       "      <td>2023</td>\n",
       "      <td>0.0</td>\n",
       "    </tr>\n",
       "    <tr>\n",
       "      <th>67</th>\n",
       "      <td>37</td>\n",
       "      <td>Boyce</td>\n",
       "      <td>2023</td>\n",
       "      <td>0.0</td>\n",
       "    </tr>\n",
       "    <tr>\n",
       "      <th>68</th>\n",
       "      <td>17</td>\n",
       "      <td>Boyce</td>\n",
       "      <td>2023</td>\n",
       "      <td>1.0</td>\n",
       "    </tr>\n",
       "    <tr>\n",
       "      <th>69</th>\n",
       "      <td>160</td>\n",
       "      <td>Boyce</td>\n",
       "      <td>2023</td>\n",
       "      <td>0.0</td>\n",
       "    </tr>\n",
       "    <tr>\n",
       "      <th>70</th>\n",
       "      <td>321</td>\n",
       "      <td>Boyce</td>\n",
       "      <td>2023</td>\n",
       "      <td>0.0</td>\n",
       "    </tr>\n",
       "  </tbody>\n",
       "</table>\n",
       "<p>71 rows × 4 columns</p>\n",
       "</div>"
      ],
      "text/plain": [
       "      n Author  Year  Sig\n",
       "0    88  Boyce  2023  0.0\n",
       "1   225  Boyce  2023  0.0\n",
       "2    40  Boyce  2023  0.0\n",
       "3   209  Boyce  2023  0.0\n",
       "4   198  Boyce  2023  0.0\n",
       "..  ...    ...   ...  ...\n",
       "66   56  Boyce  2023  0.0\n",
       "67   37  Boyce  2023  0.0\n",
       "68   17  Boyce  2023  1.0\n",
       "69  160  Boyce  2023  0.0\n",
       "70  321  Boyce  2023  0.0\n",
       "\n",
       "[71 rows x 4 columns]"
      ]
     },
     "execution_count": 10,
     "metadata": {},
     "output_type": "execute_result"
    }
   ],
   "source": [
    "boyce_df = pd.read_csv(\"dat/Boyce2023.csv\")\n",
    "boyce_df.head()\n",
    "boyce_df.dropna(subset=[\"rep_p_calc\", \"replication_N\"], inplace=True)\n",
    "boyce_df = boyce_df[boyce_df[\"p_orig\"] < 0.05]\n",
    "nb = boyce_df[\"replication_N\"]\n",
    "\n",
    "boyce_subset = pd.DataFrame(\n",
    "    {\n",
    "        \"n\": nb.values,\n",
    "        \"Author\": \"Boyce\",\n",
    "        \"Year\": 2023,\n",
    "        \"Sig\": 1.0 * (boyce_df[\"rep_p_calc\"].values < 0.05),\n",
    "    }\n",
    ")\n",
    "boyce_subset.to_csv(\"./output/generated/boyce2023.csv\")\n",
    "boyce_subset\n"
   ]
  },
  {
   "cell_type": "markdown",
   "metadata": {},
   "source": [
    "## Statistical Model: Systematic Efforts \n"
   ]
  },
  {
   "cell_type": "markdown",
   "metadata": {},
   "source": [
    "### Step One: Conceptual Anaysis \n",
    "Our conceptual analysis here is based firmly in the theoretical model described at length in our manuscript. We need only adapt it slightly to account for the context in which replication efforts occur. Specifically, we assume that a given sampling frame may have a unique average effect size which is proportional to $\\sqrt{\\tau^2 + \\sigma^2}$. Moreover, because there are only single replications of most hypotheses, it is impossible to disengangle $\\sigma$ and $\\tau$. Instead, we will focus on the total variation in observed hypothesis and its relationship to significance rather replication as defined by significance in the same direciton "
   ]
  },
  {
   "cell_type": "markdown",
   "metadata": {},
   "source": [
    "### Step Two: Define Observational Space\n",
    "Our dataset consistes of a column indicating which replication effort a study came from, whether the results were significant and the sample size. Although we could calculate the observed effect sizes for many of the hypotheses, adds unnecesary complication as some effect sizes do not have an easy converstion Cohen's $d$. As our model provides a strict relationship between the probability of significance, sample size, and the distribution of observed effect sizes we will instead infer effect sizes. This has the added benefit of providing a sanity check that our model is reconstructing plausible effect size estimates. "
   ]
  },
  {
   "cell_type": "code",
   "execution_count": 11,
   "metadata": {},
   "outputs": [
    {
     "data": {
      "text/html": [
       "<div>\n",
       "<style scoped>\n",
       "    .dataframe tbody tr th:only-of-type {\n",
       "        vertical-align: middle;\n",
       "    }\n",
       "\n",
       "    .dataframe tbody tr th {\n",
       "        vertical-align: top;\n",
       "    }\n",
       "\n",
       "    .dataframe thead th {\n",
       "        text-align: right;\n",
       "    }\n",
       "</style>\n",
       "<table border=\"1\" class=\"dataframe\">\n",
       "  <thead>\n",
       "    <tr style=\"text-align: right;\">\n",
       "      <th></th>\n",
       "      <th>n</th>\n",
       "      <th>Author</th>\n",
       "      <th>Year</th>\n",
       "      <th>Sig</th>\n",
       "      <th>author_year</th>\n",
       "    </tr>\n",
       "  </thead>\n",
       "  <tbody>\n",
       "    <tr>\n",
       "      <th>0</th>\n",
       "      <td>29.0</td>\n",
       "      <td>OSC</td>\n",
       "      <td>2015</td>\n",
       "      <td>0.0</td>\n",
       "      <td>OSC2015</td>\n",
       "    </tr>\n",
       "    <tr>\n",
       "      <th>1</th>\n",
       "      <td>24.0</td>\n",
       "      <td>OSC</td>\n",
       "      <td>2015</td>\n",
       "      <td>0.0</td>\n",
       "      <td>OSC2015</td>\n",
       "    </tr>\n",
       "    <tr>\n",
       "      <th>2</th>\n",
       "      <td>32.0</td>\n",
       "      <td>OSC</td>\n",
       "      <td>2015</td>\n",
       "      <td>0.0</td>\n",
       "      <td>OSC2015</td>\n",
       "    </tr>\n",
       "    <tr>\n",
       "      <th>3</th>\n",
       "      <td>270.0</td>\n",
       "      <td>OSC</td>\n",
       "      <td>2015</td>\n",
       "      <td>0.0</td>\n",
       "      <td>OSC2015</td>\n",
       "    </tr>\n",
       "    <tr>\n",
       "      <th>4</th>\n",
       "      <td>48.0</td>\n",
       "      <td>OSC</td>\n",
       "      <td>2015</td>\n",
       "      <td>0.0</td>\n",
       "      <td>OSC2015</td>\n",
       "    </tr>\n",
       "  </tbody>\n",
       "</table>\n",
       "</div>"
      ],
      "text/plain": [
       "       n Author  Year  Sig author_year\n",
       "0   29.0    OSC  2015  0.0     OSC2015\n",
       "1   24.0    OSC  2015  0.0     OSC2015\n",
       "2   32.0    OSC  2015  0.0     OSC2015\n",
       "3  270.0    OSC  2015  0.0     OSC2015\n",
       "4   48.0    OSC  2015  0.0     OSC2015"
      ]
     },
     "execution_count": 11,
     "metadata": {},
     "output_type": "execute_result"
    }
   ],
   "source": [
    "import glob\n",
    "\n",
    "# Load Data\n",
    "dfs = []\n",
    "for file in glob.glob(\"./output/generated/*.csv\"):\n",
    "    dfs.append(pd.read_csv(file))\n",
    "\n",
    "df = pd.concat(dfs, ignore_index=True).drop(columns=[\"Unnamed: 0\"])\n",
    "df[\"author_year\"] = df[\"Author\"] + df[\"Year\"].astype(\"str\")\n",
    "df.head()\n"
   ]
  },
  {
   "cell_type": "markdown",
   "metadata": {},
   "source": [
    "### Step Three: Construct Summary Statistics \n",
    "We'll be particularly interested in the rate at which significance was observed for each replication effort. "
   ]
  },
  {
   "cell_type": "markdown",
   "metadata": {},
   "source": [
    "### Step Four: Model Development \n",
    "As sample size and significance are known, we seek to estimate the distribution of observed hypotheses attribtable to $\\sqrt{\\tau^2 + \\sigma^2}. We'll refer to this quantity as $v$. Assuming statistical tests are two-tailed, the probability of significance depends only on $\\mid v \\mid$ and $n$, such that we will treat $v$ as half-normally distributed corresponding to the absolute value of the unknown effect sizes one might see. Moreover, we will estimate $v$ hierachichcally across replication efforts. \n",
    "\n",
    "As our ourcomes are binary, we will assume that significance is as defined in our statistical model, namely the probability of significance for an arbitrary replication from a given samplign frame (i.e., $\\text{Pr}(p<.05) = \\theta$). As in our theoretical model, we assume this probability as though the researchers were conducting one-sample $z$-tests. \n",
    "\n",
    "This leads to our statistical model: \n",
    "\n",
    "\\begin{align*}\n",
    "y_i&\\sim\\text{Bernoulli}(\\theta_i)\\\\\n",
    "\\theta_i&= 1 - Phi(z_i)\\\\\n",
    "z_i &= d_i \\sqrt{N_i}\\\\\n",
    "d_i &\\sim \\text{HalfNormal}(\\sqrt{\\pi/2} v_{p[i]})\\\\\n",
    "v_p &\\sim \\text{HalfNormal}(\\bar{v})\\\\\n",
    "\\bar{v}&\\sim \\text{HalfNormal}(.5)\n",
    "\\end{align*}\n",
    "\n",
    "Here, the $i^{th}$ outcome from the $p^{th}$ replication effort is defined by an unkown replication-averaged effect size $d_i$. We assume that $d_i$ is drawn from the study's sampling frame, which is half-normally distributed with an average effect size of $\\sqrt{\\pi/2} v_{s[i]}$. Note that the $\\sqrt{\\pi/2}$ is necessary to ensure that the expected value for $d$ (effect size) is the expected value for efffect sizes in $v_s$, given the expectation of a half-normal distribution. "
   ]
  },
  {
   "cell_type": "code",
   "execution_count": 12,
   "metadata": {},
   "outputs": [
    {
     "name": "stderr",
     "output_type": "stream",
     "text": [
      "/home/joseph/anaconda3/envs/rep_surveys/lib/python3.10/site-packages/pymc/data.py:303: FutureWarning: MutableData is deprecated. All Data variables are now mutable. Use Data instead.\n",
      "  warnings.warn(\n"
     ]
    }
   ],
   "source": [
    "pidx, paper = pd.factorize(df[\"author_year\"])\n",
    "coords = {\"paper\": paper}\n",
    "\n",
    "with pm.Model(coords=coords) as rep_efort_model:\n",
    "    sig = pm.MutableData(\"sig\", df[\"Sig\"].astype(\"int\").values)\n",
    "    N_rep = pm.Data(\"N_rep\", df[\"n\"].values)\n",
    "    value = pm.Data(\"value\", stats.norm.ppf(0.975))\n",
    "    p_idx = pm.Data(\"pidx\", pidx)\n",
    "\n",
    "    # Modeling the probability of significance\n",
    "    var_bar = pm.TruncatedNormal(\"var_bar\", mu=0.5, sigma=0.2, lower=0)\n",
    "    var = pm.HalfNormal(\"var\", sigma=var_bar, dims=\"paper\")\n",
    "    d_mu = pm.HalfNormal(\"d_mu\", var[p_idx] * pm.math.sqrt(np.pi / 2), shape=len(df))\n",
    "\n",
    "    rv = pm.Normal.dist(d_mu * pm.math.sqrt(N_rep), 1)\n",
    "    theta = pm.Deterministic(\"theta\", 0.99999 * (1 - pm.math.exp(pm.logcdf(rv, value))))\n",
    "    y = pm.Bernoulli(\"y\", theta, observed=sig)\n"
   ]
  },
  {
   "cell_type": "markdown",
   "metadata": {},
   "source": [
    "### Step Five: Construct Summary Functions \n",
    "We will examine the distribution of implied effect sizes as well as the probability that a replication is significant across the various replication efforts. "
   ]
  },
  {
   "cell_type": "markdown",
   "metadata": {},
   "source": [
    "### Step Six: Simulate Prior Ensemble "
   ]
  },
  {
   "cell_type": "code",
   "execution_count": 13,
   "metadata": {},
   "outputs": [
    {
     "name": "stderr",
     "output_type": "stream",
     "text": [
      "Sampling: [d_mu, var, var_bar, y]\n"
     ]
    }
   ],
   "source": [
    "with rep_efort_model:\n",
    "    prior_rep_effort = pm.sample_prior_predictive(1000)\n"
   ]
  },
  {
   "cell_type": "markdown",
   "metadata": {},
   "source": [
    "### Step Seven: Prior Checks"
   ]
  },
  {
   "cell_type": "code",
   "execution_count": 14,
   "metadata": {},
   "outputs": [
    {
     "data": {
      "image/png": "[encoded data removed]",
      "text/plain": [
       "<Figure size 1200x400 with 3 Axes>"
      ]
     },
     "metadata": {},
     "output_type": "display_data"
    }
   ],
   "source": [
    "#papermill_description=priorChecks\n",
    "fig, ax = plt.subplots(1, 3, figsize=(12, 4))\n",
    "plt.sca(ax[0])\n",
    "medians = []\n",
    "ns = []\n",
    "for p_idx in np.unique(pidx):\n",
    "    prior_paper = prior_rep_effort.prior_predictive[\"y\"][\n",
    "        :, :, np.where(pidx == p_idx)[0]\n",
    "    ]\n",
    "    median_n = np.median(df[pidx == p_idx][\"n\"])\n",
    "    median = np.median(np.mean(prior_paper, axis=1))\n",
    "    widths = [1, 2, 4, 5]\n",
    "    plt.scatter(median_n, median, color=\"darkred\")\n",
    "    medians.append(median)\n",
    "    ns.append(median_n)\n",
    "    for idx, percentile in enumerate([6, 11, 25, 50, 25]):\n",
    "        low = np.percentile(np.mean(prior_paper, axis=2), percentile / 2, axis=1)\n",
    "        high = np.percentile(np.mean(prior_paper, axis=2), 100 - percentile / 2, axis=1)\n",
    "\n",
    "        plt.plot(\n",
    "            [median_n, median_n],\n",
    "            [low, high],\n",
    "            lw=4,\n",
    "            alpha=(percentile) / 100,\n",
    "            color=\"darkred\",\n",
    "        )\n",
    "order = np.argsort(ns)\n",
    "plt.plot(np.array(ns)[order], np.array(medians)[order], color=\"darkred\", lw=2)\n",
    "# logx\n",
    "plt.xscale(\"log\")\n",
    "# natural units\n",
    "plt.xticks([50, 100, 1000, 5000], [\"50\", \"100\", \"1000\", \"5000\"])\n",
    "plt.ylabel(r\"$Pr(p<.05)\")\n",
    "plt.xlabel(\"Sample Size\")\n",
    "\n",
    "plt.sca(ax[1])\n",
    "temp = prior_rep_effort.prior[\"var\"].values.reshape(1000, -1)\n",
    "plot_prior_ppd(temp, bins=np.linspace(0, 3, 10), ax=ax[1])\n",
    "plt.xlabel(r\"$v$\")\n",
    "plt.xlim(0, 3)\n",
    "\n",
    "plt.sca(ax[2])\n",
    "plt.ylabel(\"Density\")\n",
    "temp = prior_rep_effort.prior[\"d_mu\"].values.reshape(1000, -1)\n",
    "plot_prior_ppd(temp, bins=np.linspace(0, 3, 10), ax=ax[2])\n",
    "plt.xlabel(r\"$d$\")\n",
    "plt.xlim(0, 3)\n",
    "plt.ylabel(\"Density\")\n",
    "from src.figures import label_subfigs\n",
    "\n",
    "label_subfigs(ax)\n",
    "plt.tight_layout()\n",
    "plt.savefig(\"./output/figures/RepEffortPriorPredictive.png\", dpi=300)\n"
   ]
  },
  {
   "cell_type": "markdown",
   "metadata": {},
   "source": [
    "### Step Eight: Configure Algorithm\n",
    "\n",
    "We will use 4000 samples as the chains seem slow to converge and set target_accept to .97 to deal with rare divergence issues. "
   ]
  },
  {
   "cell_type": "markdown",
   "metadata": {},
   "source": [
    "### Step Nine: Fit Simulated Ensemble\n",
    "We would like to ensure that if our model were used to analyze a population of replication efforts we could successfully and reliably recover the underlying parameters. We'll fit our model to prior simulated data and check the algorthmic and inferential adequacy of our model. "
   ]
  },
  {
   "cell_type": "code",
   "execution_count": 16,
   "metadata": {},
   "outputs": [
    {
     "name": "stderr",
     "output_type": "stream",
     "text": [
      "Auto-assigning NUTS sampler...\n",
      "Initializing NUTS using jitter+adapt_diag...\n",
      "Multiprocess sampling (4 chains in 4 jobs)\n",
      "NUTS: [var_bar, var, d_mu]\n"
     ]
    },
    {
     "data": {
      "application/vnd.jupyter.widget-view+json": {
       "model_id": "def9ebe5f5264e3c99478626169627ee",
       "version_major": 2,
       "version_minor": 0
      },
      "text/plain": [
       "Output()"
      ]
     },
     "metadata": {},
     "output_type": "display_data"
    },
    {
     "data": {
      "text/html": [
       "<pre style=\"white-space:pre;overflow-x:auto;line-height:normal;font-family:Menlo,'DejaVu Sans Mono',consolas,'Courier New',monospace\"></pre>\n"
      ],
      "text/plain": []
     },
     "metadata": {},
     "output_type": "display_data"
    },
    {
     "data": {
      "text/html": [
       "<pre style=\"white-space:pre;overflow-x:auto;line-height:normal;font-family:Menlo,'DejaVu Sans Mono',consolas,'Courier New',monospace\">\n",
       "</pre>\n"
      ],
      "text/plain": [
       "\n"
      ]
     },
     "metadata": {},
     "output_type": "display_data"
    },
    {
     "name": "stderr",
     "output_type": "stream",
     "text": [
      "Sampling 4 chains for 4_000 tune and 5_000 draw iterations (16_000 + 20_000 draws total) took 82 seconds.\n"
     ]
    },
    {
     "name": "stdout",
     "output_type": "stream",
     "text": [
      "Total divergences:  0\n",
      "Max Rhat:  1.0\n",
      "Min effective sample size(bulk):  1342.0\n",
      "Min effective sample size(tail):  860.0\n",
      "Min BFMI:  0.7983581671874248\n",
      "Good diagnostics, continue\n"
     ]
    },
    {
     "name": "stderr",
     "output_type": "stream",
     "text": [
      "Auto-assigning NUTS sampler...\n",
      "Initializing NUTS using jitter+adapt_diag...\n",
      "Multiprocess sampling (4 chains in 4 jobs)\n",
      "NUTS: [var_bar, var, d_mu]\n"
     ]
    },
    {
     "data": {
      "application/vnd.jupyter.widget-view+json": {
       "model_id": "160eeaa5596d4a61860aff2759a1c078",
       "version_major": 2,
       "version_minor": 0
      },
      "text/plain": [
       "Output()"
      ]
     },
     "metadata": {},
     "output_type": "display_data"
    },
    {
     "data": {
      "text/html": [
       "<pre style=\"white-space:pre;overflow-x:auto;line-height:normal;font-family:Menlo,'DejaVu Sans Mono',consolas,'Courier New',monospace\"></pre>\n"
      ],
      "text/plain": []
     },
     "metadata": {},
     "output_type": "display_data"
    },
    {
     "data": {
      "text/html": [
       "<pre style=\"white-space:pre;overflow-x:auto;line-height:normal;font-family:Menlo,'DejaVu Sans Mono',consolas,'Courier New',monospace\">\n",
       "</pre>\n"
      ],
      "text/plain": [
       "\n"
      ]
     },
     "metadata": {},
     "output_type": "display_data"
    },
    {
     "name": "stderr",
     "output_type": "stream",
     "text": [
      "Sampling 4 chains for 4_000 tune and 5_000 draw iterations (16_000 + 20_000 draws total) took 80 seconds.\n"
     ]
    },
    {
     "name": "stdout",
     "output_type": "stream",
     "text": [
      "Total divergences:  0\n",
      "Max Rhat:  1.0\n",
      "Min effective sample size(bulk):  1489.0\n",
      "Min effective sample size(tail):  1328.0\n",
      "Min BFMI:  0.8366929922007091\n",
      "Good diagnostics, continue\n"
     ]
    },
    {
     "name": "stderr",
     "output_type": "stream",
     "text": [
      "Auto-assigning NUTS sampler...\n",
      "Initializing NUTS using jitter+adapt_diag...\n",
      "Multiprocess sampling (4 chains in 4 jobs)\n",
      "NUTS: [var_bar, var, d_mu]\n"
     ]
    },
    {
     "data": {
      "application/vnd.jupyter.widget-view+json": {
       "model_id": "f9afafa1fd64466cb746f45adc5a3627",
       "version_major": 2,
       "version_minor": 0
      },
      "text/plain": [
       "Output()"
      ]
     },
     "metadata": {},
     "output_type": "display_data"
    },
    {
     "data": {
      "text/html": [
       "<pre style=\"white-space:pre;overflow-x:auto;line-height:normal;font-family:Menlo,'DejaVu Sans Mono',consolas,'Courier New',monospace\"></pre>\n"
      ],
      "text/plain": []
     },
     "metadata": {},
     "output_type": "display_data"
    },
    {
     "data": {
      "text/html": [
       "<pre style=\"white-space:pre;overflow-x:auto;line-height:normal;font-family:Menlo,'DejaVu Sans Mono',consolas,'Courier New',monospace\">\n",
       "</pre>\n"
      ],
      "text/plain": [
       "\n"
      ]
     },
     "metadata": {},
     "output_type": "display_data"
    },
    {
     "name": "stderr",
     "output_type": "stream",
     "text": [
      "Sampling 4 chains for 4_000 tune and 5_000 draw iterations (16_000 + 20_000 draws total) took 91 seconds.\n"
     ]
    },
    {
     "name": "stdout",
     "output_type": "stream",
     "text": [
      "Total divergences:  0\n",
      "Max Rhat:  1.01\n",
      "Min effective sample size(bulk):  551.0\n",
      "Min effective sample size(tail):  475.0\n",
      "Min BFMI:  0.7800516956841643\n",
      "Good diagnostics, continue\n"
     ]
    },
    {
     "name": "stderr",
     "output_type": "stream",
     "text": [
      "Auto-assigning NUTS sampler...\n",
      "Initializing NUTS using jitter+adapt_diag...\n",
      "Multiprocess sampling (4 chains in 4 jobs)\n",
      "NUTS: [var_bar, var, d_mu]\n"
     ]
    },
    {
     "data": {
      "application/vnd.jupyter.widget-view+json": {
       "model_id": "a02ff39d901a4687bb0437d1aea8d228",
       "version_major": 2,
       "version_minor": 0
      },
      "text/plain": [
       "Output()"
      ]
     },
     "metadata": {},
     "output_type": "display_data"
    },
    {
     "data": {
      "text/html": [
       "<pre style=\"white-space:pre;overflow-x:auto;line-height:normal;font-family:Menlo,'DejaVu Sans Mono',consolas,'Courier New',monospace\"></pre>\n"
      ],
      "text/plain": []
     },
     "metadata": {},
     "output_type": "display_data"
    },
    {
     "data": {
      "text/html": [
       "<pre style=\"white-space:pre;overflow-x:auto;line-height:normal;font-family:Menlo,'DejaVu Sans Mono',consolas,'Courier New',monospace\">\n",
       "</pre>\n"
      ],
      "text/plain": [
       "\n"
      ]
     },
     "metadata": {},
     "output_type": "display_data"
    },
    {
     "name": "stderr",
     "output_type": "stream",
     "text": [
      "Sampling 4 chains for 4_000 tune and 5_000 draw iterations (16_000 + 20_000 draws total) took 86 seconds.\n"
     ]
    },
    {
     "name": "stdout",
     "output_type": "stream",
     "text": [
      "Total divergences:  0\n",
      "Max Rhat:  1.0\n",
      "Min effective sample size(bulk):  1901.0\n",
      "Min effective sample size(tail):  3532.0\n",
      "Min BFMI:  0.8391722623233989\n",
      "Good diagnostics, continue\n"
     ]
    },
    {
     "name": "stderr",
     "output_type": "stream",
     "text": [
      "Auto-assigning NUTS sampler...\n",
      "Initializing NUTS using jitter+adapt_diag...\n",
      "Multiprocess sampling (4 chains in 4 jobs)\n",
      "NUTS: [var_bar, var, d_mu]\n"
     ]
    },
    {
     "data": {
      "application/vnd.jupyter.widget-view+json": {
       "model_id": "2eb4f3649c0e43c4bf06d34a23c826b9",
       "version_major": 2,
       "version_minor": 0
      },
      "text/plain": [
       "Output()"
      ]
     },
     "metadata": {},
     "output_type": "display_data"
    },
    {
     "data": {
      "text/html": [
       "<pre style=\"white-space:pre;overflow-x:auto;line-height:normal;font-family:Menlo,'DejaVu Sans Mono',consolas,'Courier New',monospace\"></pre>\n"
      ],
      "text/plain": []
     },
     "metadata": {},
     "output_type": "display_data"
    },
    {
     "data": {
      "text/html": [
       "<pre style=\"white-space:pre;overflow-x:auto;line-height:normal;font-family:Menlo,'DejaVu Sans Mono',consolas,'Courier New',monospace\">\n",
       "</pre>\n"
      ],
      "text/plain": [
       "\n"
      ]
     },
     "metadata": {},
     "output_type": "display_data"
    },
    {
     "name": "stderr",
     "output_type": "stream",
     "text": [
      "Sampling 4 chains for 4_000 tune and 5_000 draw iterations (16_000 + 20_000 draws total) took 84 seconds.\n"
     ]
    },
    {
     "name": "stdout",
     "output_type": "stream",
     "text": [
      "Total divergences:  0\n",
      "Max Rhat:  1.0\n",
      "Min effective sample size(bulk):  2463.0\n",
      "Min effective sample size(tail):  1868.0\n",
      "Min BFMI:  0.8242588222820723\n",
      "Good diagnostics, continue\n"
     ]
    },
    {
     "name": "stderr",
     "output_type": "stream",
     "text": [
      "Auto-assigning NUTS sampler...\n",
      "Initializing NUTS using jitter+adapt_diag...\n",
      "Multiprocess sampling (4 chains in 4 jobs)\n",
      "NUTS: [var_bar, var, d_mu]\n"
     ]
    },
    {
     "data": {
      "application/vnd.jupyter.widget-view+json": {
       "model_id": "cf1cd3622fdd4e519792eec1e679cc5d",
       "version_major": 2,
       "version_minor": 0
      },
      "text/plain": [
       "Output()"
      ]
     },
     "metadata": {},
     "output_type": "display_data"
    },
    {
     "data": {
      "text/html": [
       "<pre style=\"white-space:pre;overflow-x:auto;line-height:normal;font-family:Menlo,'DejaVu Sans Mono',consolas,'Courier New',monospace\"></pre>\n"
      ],
      "text/plain": []
     },
     "metadata": {},
     "output_type": "display_data"
    },
    {
     "data": {
      "text/html": [
       "<pre style=\"white-space:pre;overflow-x:auto;line-height:normal;font-family:Menlo,'DejaVu Sans Mono',consolas,'Courier New',monospace\">\n",
       "</pre>\n"
      ],
      "text/plain": [
       "\n"
      ]
     },
     "metadata": {},
     "output_type": "display_data"
    },
    {
     "name": "stderr",
     "output_type": "stream",
     "text": [
      "Sampling 4 chains for 4_000 tune and 5_000 draw iterations (16_000 + 20_000 draws total) took 84 seconds.\n"
     ]
    },
    {
     "name": "stdout",
     "output_type": "stream",
     "text": [
      "Total divergences:  0\n",
      "Max Rhat:  1.0\n",
      "Min effective sample size(bulk):  1779.0\n",
      "Min effective sample size(tail):  3464.0\n",
      "Min BFMI:  0.8162100242971166\n",
      "Good diagnostics, continue\n"
     ]
    },
    {
     "name": "stderr",
     "output_type": "stream",
     "text": [
      "Auto-assigning NUTS sampler...\n",
      "Initializing NUTS using jitter+adapt_diag...\n",
      "Multiprocess sampling (4 chains in 4 jobs)\n",
      "NUTS: [var_bar, var, d_mu]\n"
     ]
    },
    {
     "data": {
      "application/vnd.jupyter.widget-view+json": {
       "model_id": "8ca29d41b9974094ac1efbbf61aa5b76",
       "version_major": 2,
       "version_minor": 0
      },
      "text/plain": [
       "Output()"
      ]
     },
     "metadata": {},
     "output_type": "display_data"
    },
    {
     "data": {
      "text/html": [
       "<pre style=\"white-space:pre;overflow-x:auto;line-height:normal;font-family:Menlo,'DejaVu Sans Mono',consolas,'Courier New',monospace\"></pre>\n"
      ],
      "text/plain": []
     },
     "metadata": {},
     "output_type": "display_data"
    },
    {
     "data": {
      "text/html": [
       "<pre style=\"white-space:pre;overflow-x:auto;line-height:normal;font-family:Menlo,'DejaVu Sans Mono',consolas,'Courier New',monospace\">\n",
       "</pre>\n"
      ],
      "text/plain": [
       "\n"
      ]
     },
     "metadata": {},
     "output_type": "display_data"
    },
    {
     "name": "stderr",
     "output_type": "stream",
     "text": [
      "Sampling 4 chains for 4_000 tune and 5_000 draw iterations (16_000 + 20_000 draws total) took 84 seconds.\n"
     ]
    },
    {
     "name": "stdout",
     "output_type": "stream",
     "text": [
      "Total divergences:  0\n",
      "Max Rhat:  1.0\n",
      "Min effective sample size(bulk):  1567.0\n",
      "Min effective sample size(tail):  2893.0\n",
      "Min BFMI:  0.8003388785360525\n",
      "Good diagnostics, continue\n"
     ]
    },
    {
     "name": "stderr",
     "output_type": "stream",
     "text": [
      "Auto-assigning NUTS sampler...\n",
      "Initializing NUTS using jitter+adapt_diag...\n",
      "Multiprocess sampling (4 chains in 4 jobs)\n",
      "NUTS: [var_bar, var, d_mu]\n"
     ]
    },
    {
     "data": {
      "application/vnd.jupyter.widget-view+json": {
       "model_id": "d547535df686419e975ae4cdf9a10bae",
       "version_major": 2,
       "version_minor": 0
      },
      "text/plain": [
       "Output()"
      ]
     },
     "metadata": {},
     "output_type": "display_data"
    },
    {
     "data": {
      "text/html": [
       "<pre style=\"white-space:pre;overflow-x:auto;line-height:normal;font-family:Menlo,'DejaVu Sans Mono',consolas,'Courier New',monospace\"></pre>\n"
      ],
      "text/plain": []
     },
     "metadata": {},
     "output_type": "display_data"
    },
    {
     "data": {
      "text/html": [
       "<pre style=\"white-space:pre;overflow-x:auto;line-height:normal;font-family:Menlo,'DejaVu Sans Mono',consolas,'Courier New',monospace\">\n",
       "</pre>\n"
      ],
      "text/plain": [
       "\n"
      ]
     },
     "metadata": {},
     "output_type": "display_data"
    },
    {
     "name": "stderr",
     "output_type": "stream",
     "text": [
      "Sampling 4 chains for 4_000 tune and 5_000 draw iterations (16_000 + 20_000 draws total) took 86 seconds.\n"
     ]
    },
    {
     "name": "stdout",
     "output_type": "stream",
     "text": [
      "Total divergences:  0\n",
      "Max Rhat:  1.0\n",
      "Min effective sample size(bulk):  1905.0\n",
      "Min effective sample size(tail):  3629.0\n",
      "Min BFMI:  0.8501400249883666\n",
      "Good diagnostics, continue\n"
     ]
    },
    {
     "name": "stderr",
     "output_type": "stream",
     "text": [
      "Auto-assigning NUTS sampler...\n",
      "Initializing NUTS using jitter+adapt_diag...\n",
      "Multiprocess sampling (4 chains in 4 jobs)\n",
      "NUTS: [var_bar, var, d_mu]\n"
     ]
    },
    {
     "data": {
      "application/vnd.jupyter.widget-view+json": {
       "model_id": "975289a8ac7a4b2896c92a0b650a0e46",
       "version_major": 2,
       "version_minor": 0
      },
      "text/plain": [
       "Output()"
      ]
     },
     "metadata": {},
     "output_type": "display_data"
    },
    {
     "data": {
      "text/html": [
       "<pre style=\"white-space:pre;overflow-x:auto;line-height:normal;font-family:Menlo,'DejaVu Sans Mono',consolas,'Courier New',monospace\"></pre>\n"
      ],
      "text/plain": []
     },
     "metadata": {},
     "output_type": "display_data"
    },
    {
     "data": {
      "text/html": [
       "<pre style=\"white-space:pre;overflow-x:auto;line-height:normal;font-family:Menlo,'DejaVu Sans Mono',consolas,'Courier New',monospace\">\n",
       "</pre>\n"
      ],
      "text/plain": [
       "\n"
      ]
     },
     "metadata": {},
     "output_type": "display_data"
    },
    {
     "name": "stderr",
     "output_type": "stream",
     "text": [
      "Sampling 4 chains for 4_000 tune and 5_000 draw iterations (16_000 + 20_000 draws total) took 94 seconds.\n"
     ]
    },
    {
     "name": "stdout",
     "output_type": "stream",
     "text": [
      "Total divergences:  0\n",
      "Max Rhat:  1.01\n",
      "Min effective sample size(bulk):  517.0\n",
      "Min effective sample size(tail):  447.0\n",
      "Min BFMI:  0.7972293409805676\n",
      "Good diagnostics, continue\n"
     ]
    },
    {
     "name": "stderr",
     "output_type": "stream",
     "text": [
      "Auto-assigning NUTS sampler...\n",
      "Initializing NUTS using jitter+adapt_diag...\n",
      "Multiprocess sampling (4 chains in 4 jobs)\n",
      "NUTS: [var_bar, var, d_mu]\n"
     ]
    },
    {
     "data": {
      "application/vnd.jupyter.widget-view+json": {
       "model_id": "2479fcf1009e4a9a96a246ecc4f4f87a",
       "version_major": 2,
       "version_minor": 0
      },
      "text/plain": [
       "Output()"
      ]
     },
     "metadata": {},
     "output_type": "display_data"
    },
    {
     "data": {
      "text/html": [
       "<pre style=\"white-space:pre;overflow-x:auto;line-height:normal;font-family:Menlo,'DejaVu Sans Mono',consolas,'Courier New',monospace\"></pre>\n"
      ],
      "text/plain": []
     },
     "metadata": {},
     "output_type": "display_data"
    },
    {
     "data": {
      "text/html": [
       "<pre style=\"white-space:pre;overflow-x:auto;line-height:normal;font-family:Menlo,'DejaVu Sans Mono',consolas,'Courier New',monospace\">\n",
       "</pre>\n"
      ],
      "text/plain": [
       "\n"
      ]
     },
     "metadata": {},
     "output_type": "display_data"
    },
    {
     "name": "stderr",
     "output_type": "stream",
     "text": [
      "Sampling 4 chains for 4_000 tune and 5_000 draw iterations (16_000 + 20_000 draws total) took 95 seconds.\n",
      "The rhat statistic is larger than 1.01 for some parameters. This indicates problems during sampling. See https://arxiv.org/abs/1903.08008 for details\n",
      "The effective sample size per chain is smaller than 100 for some parameters.  A higher number is needed for reliable rhat and ess computation. See https://arxiv.org/abs/1903.08008 for details\n"
     ]
    },
    {
     "name": "stdout",
     "output_type": "stream",
     "text": [
      "Total divergences:  0\n",
      "Max Rhat:  1.01\n",
      "Min effective sample size(bulk):  309.0\n",
      "Min effective sample size(tail):  166.0\n",
      "Min BFMI:  0.7924175720384334\n",
      "Bad diagnostics, increase tuning or check model\n"
     ]
    },
    {
     "name": "stderr",
     "output_type": "stream",
     "text": [
      "Auto-assigning NUTS sampler...\n",
      "Initializing NUTS using jitter+adapt_diag...\n",
      "Multiprocess sampling (4 chains in 4 jobs)\n",
      "NUTS: [var_bar, var, d_mu]\n"
     ]
    },
    {
     "data": {
      "application/vnd.jupyter.widget-view+json": {
       "model_id": "4eac62c0f49f4170ae838c3130a72b0b",
       "version_major": 2,
       "version_minor": 0
      },
      "text/plain": [
       "Output()"
      ]
     },
     "metadata": {},
     "output_type": "display_data"
    },
    {
     "data": {
      "text/html": [
       "<pre style=\"white-space:pre;overflow-x:auto;line-height:normal;font-family:Menlo,'DejaVu Sans Mono',consolas,'Courier New',monospace\"></pre>\n"
      ],
      "text/plain": []
     },
     "metadata": {},
     "output_type": "display_data"
    },
    {
     "data": {
      "text/html": [
       "<pre style=\"white-space:pre;overflow-x:auto;line-height:normal;font-family:Menlo,'DejaVu Sans Mono',consolas,'Courier New',monospace\">\n",
       "</pre>\n"
      ],
      "text/plain": [
       "\n"
      ]
     },
     "metadata": {},
     "output_type": "display_data"
    },
    {
     "name": "stderr",
     "output_type": "stream",
     "text": [
      "Sampling 4 chains for 4_000 tune and 5_000 draw iterations (16_000 + 20_000 draws total) took 85 seconds.\n"
     ]
    },
    {
     "name": "stdout",
     "output_type": "stream",
     "text": [
      "Total divergences:  0\n",
      "Max Rhat:  1.01\n",
      "Min effective sample size(bulk):  767.0\n",
      "Min effective sample size(tail):  515.0\n",
      "Min BFMI:  0.816375864881851\n",
      "Good diagnostics, continue\n"
     ]
    },
    {
     "name": "stderr",
     "output_type": "stream",
     "text": [
      "Auto-assigning NUTS sampler...\n",
      "Initializing NUTS using jitter+adapt_diag...\n",
      "Multiprocess sampling (4 chains in 4 jobs)\n",
      "NUTS: [var_bar, var, d_mu]\n"
     ]
    },
    {
     "data": {
      "application/vnd.jupyter.widget-view+json": {
       "model_id": "ded53144452448a1867b1fc5e2c87df9",
       "version_major": 2,
       "version_minor": 0
      },
      "text/plain": [
       "Output()"
      ]
     },
     "metadata": {},
     "output_type": "display_data"
    },
    {
     "data": {
      "text/html": [
       "<pre style=\"white-space:pre;overflow-x:auto;line-height:normal;font-family:Menlo,'DejaVu Sans Mono',consolas,'Courier New',monospace\"></pre>\n"
      ],
      "text/plain": []
     },
     "metadata": {},
     "output_type": "display_data"
    },
    {
     "data": {
      "text/html": [
       "<pre style=\"white-space:pre;overflow-x:auto;line-height:normal;font-family:Menlo,'DejaVu Sans Mono',consolas,'Courier New',monospace\">\n",
       "</pre>\n"
      ],
      "text/plain": [
       "\n"
      ]
     },
     "metadata": {},
     "output_type": "display_data"
    },
    {
     "name": "stderr",
     "output_type": "stream",
     "text": [
      "Sampling 4 chains for 4_000 tune and 5_000 draw iterations (16_000 + 20_000 draws total) took 88 seconds.\n"
     ]
    },
    {
     "name": "stdout",
     "output_type": "stream",
     "text": [
      "Total divergences:  0\n",
      "Max Rhat:  1.0\n",
      "Min effective sample size(bulk):  1310.0\n",
      "Min effective sample size(tail):  1854.0\n",
      "Min BFMI:  0.8401549245350841\n",
      "Good diagnostics, continue\n"
     ]
    },
    {
     "name": "stderr",
     "output_type": "stream",
     "text": [
      "Auto-assigning NUTS sampler...\n",
      "Initializing NUTS using jitter+adapt_diag...\n",
      "Multiprocess sampling (4 chains in 4 jobs)\n",
      "NUTS: [var_bar, var, d_mu]\n"
     ]
    },
    {
     "data": {
      "application/vnd.jupyter.widget-view+json": {
       "model_id": "5b141883582849d085180e0f1f5f8c1d",
       "version_major": 2,
       "version_minor": 0
      },
      "text/plain": [
       "Output()"
      ]
     },
     "metadata": {},
     "output_type": "display_data"
    },
    {
     "data": {
      "text/html": [
       "<pre style=\"white-space:pre;overflow-x:auto;line-height:normal;font-family:Menlo,'DejaVu Sans Mono',consolas,'Courier New',monospace\"></pre>\n"
      ],
      "text/plain": []
     },
     "metadata": {},
     "output_type": "display_data"
    },
    {
     "data": {
      "text/html": [
       "<pre style=\"white-space:pre;overflow-x:auto;line-height:normal;font-family:Menlo,'DejaVu Sans Mono',consolas,'Courier New',monospace\">\n",
       "</pre>\n"
      ],
      "text/plain": [
       "\n"
      ]
     },
     "metadata": {},
     "output_type": "display_data"
    },
    {
     "name": "stderr",
     "output_type": "stream",
     "text": [
      "Sampling 4 chains for 4_000 tune and 5_000 draw iterations (16_000 + 20_000 draws total) took 84 seconds.\n"
     ]
    },
    {
     "name": "stdout",
     "output_type": "stream",
     "text": [
      "Total divergences:  0\n",
      "Max Rhat:  1.01\n",
      "Min effective sample size(bulk):  835.0\n",
      "Min effective sample size(tail):  770.0\n",
      "Min BFMI:  0.8284681430833678\n",
      "Good diagnostics, continue\n"
     ]
    },
    {
     "name": "stderr",
     "output_type": "stream",
     "text": [
      "Auto-assigning NUTS sampler...\n",
      "Initializing NUTS using jitter+adapt_diag...\n",
      "Multiprocess sampling (4 chains in 4 jobs)\n",
      "NUTS: [var_bar, var, d_mu]\n"
     ]
    },
    {
     "data": {
      "application/vnd.jupyter.widget-view+json": {
       "model_id": "9f7b32c47f6a4c4ca6fdd0fef14b6a94",
       "version_major": 2,
       "version_minor": 0
      },
      "text/plain": [
       "Output()"
      ]
     },
     "metadata": {},
     "output_type": "display_data"
    },
    {
     "data": {
      "text/html": [
       "<pre style=\"white-space:pre;overflow-x:auto;line-height:normal;font-family:Menlo,'DejaVu Sans Mono',consolas,'Courier New',monospace\"></pre>\n"
      ],
      "text/plain": []
     },
     "metadata": {},
     "output_type": "display_data"
    },
    {
     "data": {
      "text/html": [
       "<pre style=\"white-space:pre;overflow-x:auto;line-height:normal;font-family:Menlo,'DejaVu Sans Mono',consolas,'Courier New',monospace\">\n",
       "</pre>\n"
      ],
      "text/plain": [
       "\n"
      ]
     },
     "metadata": {},
     "output_type": "display_data"
    },
    {
     "name": "stderr",
     "output_type": "stream",
     "text": [
      "Sampling 4 chains for 4_000 tune and 5_000 draw iterations (16_000 + 20_000 draws total) took 82 seconds.\n"
     ]
    },
    {
     "name": "stdout",
     "output_type": "stream",
     "text": [
      "Total divergences:  0\n",
      "Max Rhat:  1.0\n",
      "Min effective sample size(bulk):  2094.0\n",
      "Min effective sample size(tail):  3640.0\n",
      "Min BFMI:  0.7773856535588257\n",
      "Good diagnostics, continue\n"
     ]
    },
    {
     "name": "stderr",
     "output_type": "stream",
     "text": [
      "Auto-assigning NUTS sampler...\n",
      "Initializing NUTS using jitter+adapt_diag...\n",
      "Multiprocess sampling (4 chains in 4 jobs)\n",
      "NUTS: [var_bar, var, d_mu]\n"
     ]
    },
    {
     "data": {
      "application/vnd.jupyter.widget-view+json": {
       "model_id": "ad0094c0d63c4650bbf7b63b261ea871",
       "version_major": 2,
       "version_minor": 0
      },
      "text/plain": [
       "Output()"
      ]
     },
     "metadata": {},
     "output_type": "display_data"
    },
    {
     "data": {
      "text/html": [
       "<pre style=\"white-space:pre;overflow-x:auto;line-height:normal;font-family:Menlo,'DejaVu Sans Mono',consolas,'Courier New',monospace\"></pre>\n"
      ],
      "text/plain": []
     },
     "metadata": {},
     "output_type": "display_data"
    },
    {
     "data": {
      "text/html": [
       "<pre style=\"white-space:pre;overflow-x:auto;line-height:normal;font-family:Menlo,'DejaVu Sans Mono',consolas,'Courier New',monospace\">\n",
       "</pre>\n"
      ],
      "text/plain": [
       "\n"
      ]
     },
     "metadata": {},
     "output_type": "display_data"
    },
    {
     "name": "stderr",
     "output_type": "stream",
     "text": [
      "Sampling 4 chains for 4_000 tune and 5_000 draw iterations (16_000 + 20_000 draws total) took 85 seconds.\n"
     ]
    },
    {
     "name": "stdout",
     "output_type": "stream",
     "text": [
      "Total divergences:  0\n",
      "Max Rhat:  1.0\n",
      "Min effective sample size(bulk):  1499.0\n",
      "Min effective sample size(tail):  2949.0\n",
      "Min BFMI:  0.8485207995441985\n",
      "Good diagnostics, continue\n"
     ]
    },
    {
     "name": "stderr",
     "output_type": "stream",
     "text": [
      "Auto-assigning NUTS sampler...\n",
      "Initializing NUTS using jitter+adapt_diag...\n",
      "Multiprocess sampling (4 chains in 4 jobs)\n",
      "NUTS: [var_bar, var, d_mu]\n"
     ]
    },
    {
     "data": {
      "application/vnd.jupyter.widget-view+json": {
       "model_id": "fe04a9303805437684a5c5ce1867d780",
       "version_major": 2,
       "version_minor": 0
      },
      "text/plain": [
       "Output()"
      ]
     },
     "metadata": {},
     "output_type": "display_data"
    },
    {
     "data": {
      "text/html": [
       "<pre style=\"white-space:pre;overflow-x:auto;line-height:normal;font-family:Menlo,'DejaVu Sans Mono',consolas,'Courier New',monospace\"></pre>\n"
      ],
      "text/plain": []
     },
     "metadata": {},
     "output_type": "display_data"
    },
    {
     "data": {
      "text/html": [
       "<pre style=\"white-space:pre;overflow-x:auto;line-height:normal;font-family:Menlo,'DejaVu Sans Mono',consolas,'Courier New',monospace\">\n",
       "</pre>\n"
      ],
      "text/plain": [
       "\n"
      ]
     },
     "metadata": {},
     "output_type": "display_data"
    },
    {
     "name": "stderr",
     "output_type": "stream",
     "text": [
      "Sampling 4 chains for 4_000 tune and 5_000 draw iterations (16_000 + 20_000 draws total) took 82 seconds.\n"
     ]
    },
    {
     "name": "stdout",
     "output_type": "stream",
     "text": [
      "Total divergences:  0\n",
      "Max Rhat:  1.0\n",
      "Min effective sample size(bulk):  3145.0\n",
      "Min effective sample size(tail):  6124.0\n",
      "Min BFMI:  0.8000419260476556\n",
      "Good diagnostics, continue\n"
     ]
    },
    {
     "name": "stderr",
     "output_type": "stream",
     "text": [
      "Auto-assigning NUTS sampler...\n",
      "Initializing NUTS using jitter+adapt_diag...\n",
      "Multiprocess sampling (4 chains in 4 jobs)\n",
      "NUTS: [var_bar, var, d_mu]\n"
     ]
    },
    {
     "data": {
      "application/vnd.jupyter.widget-view+json": {
       "model_id": "2cb0fb939c804e73a7473f2e358fcd26",
       "version_major": 2,
       "version_minor": 0
      },
      "text/plain": [
       "Output()"
      ]
     },
     "metadata": {},
     "output_type": "display_data"
    },
    {
     "data": {
      "text/html": [
       "<pre style=\"white-space:pre;overflow-x:auto;line-height:normal;font-family:Menlo,'DejaVu Sans Mono',consolas,'Courier New',monospace\"></pre>\n"
      ],
      "text/plain": []
     },
     "metadata": {},
     "output_type": "display_data"
    },
    {
     "data": {
      "text/html": [
       "<pre style=\"white-space:pre;overflow-x:auto;line-height:normal;font-family:Menlo,'DejaVu Sans Mono',consolas,'Courier New',monospace\">\n",
       "</pre>\n"
      ],
      "text/plain": [
       "\n"
      ]
     },
     "metadata": {},
     "output_type": "display_data"
    },
    {
     "name": "stderr",
     "output_type": "stream",
     "text": [
      "Sampling 4 chains for 4_000 tune and 5_000 draw iterations (16_000 + 20_000 draws total) took 86 seconds.\n"
     ]
    },
    {
     "name": "stdout",
     "output_type": "stream",
     "text": [
      "Total divergences:  0\n",
      "Max Rhat:  1.0\n",
      "Min effective sample size(bulk):  1817.0\n",
      "Min effective sample size(tail):  929.0\n",
      "Min BFMI:  0.800267441992253\n",
      "Good diagnostics, continue\n"
     ]
    },
    {
     "name": "stderr",
     "output_type": "stream",
     "text": [
      "Auto-assigning NUTS sampler...\n",
      "Initializing NUTS using jitter+adapt_diag...\n",
      "Multiprocess sampling (4 chains in 4 jobs)\n",
      "NUTS: [var_bar, var, d_mu]\n"
     ]
    },
    {
     "data": {
      "application/vnd.jupyter.widget-view+json": {
       "model_id": "6c9565c71bf44d42a92b95108cbc7484",
       "version_major": 2,
       "version_minor": 0
      },
      "text/plain": [
       "Output()"
      ]
     },
     "metadata": {},
     "output_type": "display_data"
    },
    {
     "data": {
      "text/html": [
       "<pre style=\"white-space:pre;overflow-x:auto;line-height:normal;font-family:Menlo,'DejaVu Sans Mono',consolas,'Courier New',monospace\"></pre>\n"
      ],
      "text/plain": []
     },
     "metadata": {},
     "output_type": "display_data"
    },
    {
     "data": {
      "text/html": [
       "<pre style=\"white-space:pre;overflow-x:auto;line-height:normal;font-family:Menlo,'DejaVu Sans Mono',consolas,'Courier New',monospace\">\n",
       "</pre>\n"
      ],
      "text/plain": [
       "\n"
      ]
     },
     "metadata": {},
     "output_type": "display_data"
    },
    {
     "name": "stderr",
     "output_type": "stream",
     "text": [
      "Sampling 4 chains for 4_000 tune and 5_000 draw iterations (16_000 + 20_000 draws total) took 90 seconds.\n"
     ]
    },
    {
     "name": "stdout",
     "output_type": "stream",
     "text": [
      "Total divergences:  0\n",
      "Max Rhat:  1.0\n",
      "Min effective sample size(bulk):  592.0\n",
      "Min effective sample size(tail):  503.0\n",
      "Min BFMI:  0.7874249270897429\n",
      "Good diagnostics, continue\n"
     ]
    },
    {
     "name": "stderr",
     "output_type": "stream",
     "text": [
      "Auto-assigning NUTS sampler...\n",
      "Initializing NUTS using jitter+adapt_diag...\n",
      "Multiprocess sampling (4 chains in 4 jobs)\n",
      "NUTS: [var_bar, var, d_mu]\n"
     ]
    },
    {
     "data": {
      "application/vnd.jupyter.widget-view+json": {
       "model_id": "0bca69729e85471f959c8581ff629b20",
       "version_major": 2,
       "version_minor": 0
      },
      "text/plain": [
       "Output()"
      ]
     },
     "metadata": {},
     "output_type": "display_data"
    },
    {
     "data": {
      "text/html": [
       "<pre style=\"white-space:pre;overflow-x:auto;line-height:normal;font-family:Menlo,'DejaVu Sans Mono',consolas,'Courier New',monospace\"></pre>\n"
      ],
      "text/plain": []
     },
     "metadata": {},
     "output_type": "display_data"
    },
    {
     "data": {
      "text/html": [
       "<pre style=\"white-space:pre;overflow-x:auto;line-height:normal;font-family:Menlo,'DejaVu Sans Mono',consolas,'Courier New',monospace\">\n",
       "</pre>\n"
      ],
      "text/plain": [
       "\n"
      ]
     },
     "metadata": {},
     "output_type": "display_data"
    },
    {
     "name": "stderr",
     "output_type": "stream",
     "text": [
      "Sampling 4 chains for 4_000 tune and 5_000 draw iterations (16_000 + 20_000 draws total) took 84 seconds.\n"
     ]
    },
    {
     "name": "stdout",
     "output_type": "stream",
     "text": [
      "Total divergences:  0\n",
      "Max Rhat:  1.01\n",
      "Min effective sample size(bulk):  769.0\n",
      "Min effective sample size(tail):  535.0\n",
      "Min BFMI:  0.7729461079357685\n",
      "Good diagnostics, continue\n"
     ]
    },
    {
     "name": "stderr",
     "output_type": "stream",
     "text": [
      "Auto-assigning NUTS sampler...\n",
      "Initializing NUTS using jitter+adapt_diag...\n",
      "Multiprocess sampling (4 chains in 4 jobs)\n",
      "NUTS: [var_bar, var, d_mu]\n"
     ]
    },
    {
     "data": {
      "application/vnd.jupyter.widget-view+json": {
       "model_id": "0f8e3fdb7739480c9bde09b8629dd139",
       "version_major": 2,
       "version_minor": 0
      },
      "text/plain": [
       "Output()"
      ]
     },
     "metadata": {},
     "output_type": "display_data"
    },
    {
     "data": {
      "text/html": [
       "<pre style=\"white-space:pre;overflow-x:auto;line-height:normal;font-family:Menlo,'DejaVu Sans Mono',consolas,'Courier New',monospace\"></pre>\n"
      ],
      "text/plain": []
     },
     "metadata": {},
     "output_type": "display_data"
    },
    {
     "data": {
      "text/html": [
       "<pre style=\"white-space:pre;overflow-x:auto;line-height:normal;font-family:Menlo,'DejaVu Sans Mono',consolas,'Courier New',monospace\">\n",
       "</pre>\n"
      ],
      "text/plain": [
       "\n"
      ]
     },
     "metadata": {},
     "output_type": "display_data"
    },
    {
     "name": "stderr",
     "output_type": "stream",
     "text": [
      "Sampling 4 chains for 4_000 tune and 5_000 draw iterations (16_000 + 20_000 draws total) took 92 seconds.\n"
     ]
    },
    {
     "name": "stdout",
     "output_type": "stream",
     "text": [
      "Total divergences:  0\n",
      "Max Rhat:  1.0\n",
      "Min effective sample size(bulk):  1462.0\n",
      "Min effective sample size(tail):  1012.0\n",
      "Min BFMI:  0.8000598766153169\n",
      "Good diagnostics, continue\n"
     ]
    },
    {
     "name": "stderr",
     "output_type": "stream",
     "text": [
      "Auto-assigning NUTS sampler...\n",
      "Initializing NUTS using jitter+adapt_diag...\n",
      "Multiprocess sampling (4 chains in 4 jobs)\n",
      "NUTS: [var_bar, var, d_mu]\n"
     ]
    },
    {
     "data": {
      "application/vnd.jupyter.widget-view+json": {
       "model_id": "4f2d3139ae824c17b6e8ff838558959d",
       "version_major": 2,
       "version_minor": 0
      },
      "text/plain": [
       "Output()"
      ]
     },
     "metadata": {},
     "output_type": "display_data"
    },
    {
     "data": {
      "text/html": [
       "<pre style=\"white-space:pre;overflow-x:auto;line-height:normal;font-family:Menlo,'DejaVu Sans Mono',consolas,'Courier New',monospace\"></pre>\n"
      ],
      "text/plain": []
     },
     "metadata": {},
     "output_type": "display_data"
    },
    {
     "data": {
      "text/html": [
       "<pre style=\"white-space:pre;overflow-x:auto;line-height:normal;font-family:Menlo,'DejaVu Sans Mono',consolas,'Courier New',monospace\">\n",
       "</pre>\n"
      ],
      "text/plain": [
       "\n"
      ]
     },
     "metadata": {},
     "output_type": "display_data"
    },
    {
     "name": "stderr",
     "output_type": "stream",
     "text": [
      "Sampling 4 chains for 4_000 tune and 5_000 draw iterations (16_000 + 20_000 draws total) took 93 seconds.\n"
     ]
    },
    {
     "name": "stdout",
     "output_type": "stream",
     "text": [
      "Total divergences:  0\n",
      "Max Rhat:  1.0\n",
      "Min effective sample size(bulk):  710.0\n",
      "Min effective sample size(tail):  651.0\n",
      "Min BFMI:  0.8203512102588334\n",
      "Good diagnostics, continue\n"
     ]
    },
    {
     "name": "stderr",
     "output_type": "stream",
     "text": [
      "Auto-assigning NUTS sampler...\n",
      "Initializing NUTS using jitter+adapt_diag...\n",
      "Multiprocess sampling (4 chains in 4 jobs)\n",
      "NUTS: [var_bar, var, d_mu]\n"
     ]
    },
    {
     "data": {
      "application/vnd.jupyter.widget-view+json": {
       "model_id": "096fc4d5d8c745d89abbb71335f2a840",
       "version_major": 2,
       "version_minor": 0
      },
      "text/plain": [
       "Output()"
      ]
     },
     "metadata": {},
     "output_type": "display_data"
    },
    {
     "data": {
      "text/html": [
       "<pre style=\"white-space:pre;overflow-x:auto;line-height:normal;font-family:Menlo,'DejaVu Sans Mono',consolas,'Courier New',monospace\"></pre>\n"
      ],
      "text/plain": []
     },
     "metadata": {},
     "output_type": "display_data"
    },
    {
     "data": {
      "text/html": [
       "<pre style=\"white-space:pre;overflow-x:auto;line-height:normal;font-family:Menlo,'DejaVu Sans Mono',consolas,'Courier New',monospace\">\n",
       "</pre>\n"
      ],
      "text/plain": [
       "\n"
      ]
     },
     "metadata": {},
     "output_type": "display_data"
    },
    {
     "name": "stderr",
     "output_type": "stream",
     "text": [
      "Sampling 4 chains for 4_000 tune and 5_000 draw iterations (16_000 + 20_000 draws total) took 83 seconds.\n"
     ]
    },
    {
     "name": "stdout",
     "output_type": "stream",
     "text": [
      "Total divergences:  0\n",
      "Max Rhat:  1.0\n",
      "Min effective sample size(bulk):  1383.0\n",
      "Min effective sample size(tail):  845.0\n",
      "Min BFMI:  0.790413963780177\n",
      "Good diagnostics, continue\n"
     ]
    },
    {
     "name": "stderr",
     "output_type": "stream",
     "text": [
      "Auto-assigning NUTS sampler...\n",
      "Initializing NUTS using jitter+adapt_diag...\n",
      "Multiprocess sampling (4 chains in 4 jobs)\n",
      "NUTS: [var_bar, var, d_mu]\n"
     ]
    },
    {
     "data": {
      "application/vnd.jupyter.widget-view+json": {
       "model_id": "1f013c5c85d44dbe970b4ae351d22e08",
       "version_major": 2,
       "version_minor": 0
      },
      "text/plain": [
       "Output()"
      ]
     },
     "metadata": {},
     "output_type": "display_data"
    },
    {
     "data": {
      "text/html": [
       "<pre style=\"white-space:pre;overflow-x:auto;line-height:normal;font-family:Menlo,'DejaVu Sans Mono',consolas,'Courier New',monospace\"></pre>\n"
      ],
      "text/plain": []
     },
     "metadata": {},
     "output_type": "display_data"
    },
    {
     "data": {
      "text/html": [
       "<pre style=\"white-space:pre;overflow-x:auto;line-height:normal;font-family:Menlo,'DejaVu Sans Mono',consolas,'Courier New',monospace\">\n",
       "</pre>\n"
      ],
      "text/plain": [
       "\n"
      ]
     },
     "metadata": {},
     "output_type": "display_data"
    },
    {
     "name": "stderr",
     "output_type": "stream",
     "text": [
      "Sampling 4 chains for 4_000 tune and 5_000 draw iterations (16_000 + 20_000 draws total) took 85 seconds.\n"
     ]
    },
    {
     "name": "stdout",
     "output_type": "stream",
     "text": [
      "Total divergences:  0\n",
      "Max Rhat:  1.0\n",
      "Min effective sample size(bulk):  1333.0\n",
      "Min effective sample size(tail):  2380.0\n",
      "Min BFMI:  0.80033937011372\n",
      "Good diagnostics, continue\n"
     ]
    },
    {
     "name": "stderr",
     "output_type": "stream",
     "text": [
      "Auto-assigning NUTS sampler...\n",
      "Initializing NUTS using jitter+adapt_diag...\n",
      "Multiprocess sampling (4 chains in 4 jobs)\n",
      "NUTS: [var_bar, var, d_mu]\n"
     ]
    },
    {
     "data": {
      "application/vnd.jupyter.widget-view+json": {
       "model_id": "2a395eb51fe6435b9831981f458db195",
       "version_major": 2,
       "version_minor": 0
      },
      "text/plain": [
       "Output()"
      ]
     },
     "metadata": {},
     "output_type": "display_data"
    },
    {
     "data": {
      "text/html": [
       "<pre style=\"white-space:pre;overflow-x:auto;line-height:normal;font-family:Menlo,'DejaVu Sans Mono',consolas,'Courier New',monospace\"></pre>\n"
      ],
      "text/plain": []
     },
     "metadata": {},
     "output_type": "display_data"
    },
    {
     "data": {
      "text/html": [
       "<pre style=\"white-space:pre;overflow-x:auto;line-height:normal;font-family:Menlo,'DejaVu Sans Mono',consolas,'Courier New',monospace\">\n",
       "</pre>\n"
      ],
      "text/plain": [
       "\n"
      ]
     },
     "metadata": {},
     "output_type": "display_data"
    },
    {
     "name": "stderr",
     "output_type": "stream",
     "text": [
      "Sampling 4 chains for 4_000 tune and 5_000 draw iterations (16_000 + 20_000 draws total) took 84 seconds.\n"
     ]
    },
    {
     "name": "stdout",
     "output_type": "stream",
     "text": [
      "Total divergences:  0\n",
      "Max Rhat:  1.0\n",
      "Min effective sample size(bulk):  1452.0\n",
      "Min effective sample size(tail):  1404.0\n",
      "Min BFMI:  0.8109067939740215\n",
      "Good diagnostics, continue\n"
     ]
    },
    {
     "name": "stderr",
     "output_type": "stream",
     "text": [
      "Auto-assigning NUTS sampler...\n",
      "Initializing NUTS using jitter+adapt_diag...\n",
      "Multiprocess sampling (4 chains in 4 jobs)\n",
      "NUTS: [var_bar, var, d_mu]\n"
     ]
    },
    {
     "data": {
      "application/vnd.jupyter.widget-view+json": {
       "model_id": "97b98d04b03e4b99aaf1c8211fe1b525",
       "version_major": 2,
       "version_minor": 0
      },
      "text/plain": [
       "Output()"
      ]
     },
     "metadata": {},
     "output_type": "display_data"
    },
    {
     "data": {
      "text/html": [
       "<pre style=\"white-space:pre;overflow-x:auto;line-height:normal;font-family:Menlo,'DejaVu Sans Mono',consolas,'Courier New',monospace\"></pre>\n"
      ],
      "text/plain": []
     },
     "metadata": {},
     "output_type": "display_data"
    },
    {
     "data": {
      "text/html": [
       "<pre style=\"white-space:pre;overflow-x:auto;line-height:normal;font-family:Menlo,'DejaVu Sans Mono',consolas,'Courier New',monospace\">\n",
       "</pre>\n"
      ],
      "text/plain": [
       "\n"
      ]
     },
     "metadata": {},
     "output_type": "display_data"
    },
    {
     "name": "stderr",
     "output_type": "stream",
     "text": [
      "Sampling 4 chains for 4_000 tune and 5_000 draw iterations (16_000 + 20_000 draws total) took 81 seconds.\n"
     ]
    },
    {
     "name": "stdout",
     "output_type": "stream",
     "text": [
      "Total divergences:  0\n",
      "Max Rhat:  1.01\n",
      "Min effective sample size(bulk):  1312.0\n",
      "Min effective sample size(tail):  620.0\n",
      "Min BFMI:  0.8222382956733412\n",
      "Good diagnostics, continue\n"
     ]
    },
    {
     "name": "stderr",
     "output_type": "stream",
     "text": [
      "Auto-assigning NUTS sampler...\n",
      "Initializing NUTS using jitter+adapt_diag...\n",
      "Multiprocess sampling (4 chains in 4 jobs)\n",
      "NUTS: [var_bar, var, d_mu]\n"
     ]
    },
    {
     "data": {
      "application/vnd.jupyter.widget-view+json": {
       "model_id": "8de77781956045f89449bd537ace1b41",
       "version_major": 2,
       "version_minor": 0
      },
      "text/plain": [
       "Output()"
      ]
     },
     "metadata": {},
     "output_type": "display_data"
    },
    {
     "data": {
      "text/html": [
       "<pre style=\"white-space:pre;overflow-x:auto;line-height:normal;font-family:Menlo,'DejaVu Sans Mono',consolas,'Courier New',monospace\"></pre>\n"
      ],
      "text/plain": []
     },
     "metadata": {},
     "output_type": "display_data"
    },
    {
     "data": {
      "text/html": [
       "<pre style=\"white-space:pre;overflow-x:auto;line-height:normal;font-family:Menlo,'DejaVu Sans Mono',consolas,'Courier New',monospace\">\n",
       "</pre>\n"
      ],
      "text/plain": [
       "\n"
      ]
     },
     "metadata": {},
     "output_type": "display_data"
    },
    {
     "name": "stderr",
     "output_type": "stream",
     "text": [
      "Sampling 4 chains for 4_000 tune and 5_000 draw iterations (16_000 + 20_000 draws total) took 85 seconds.\n",
      "The rhat statistic is larger than 1.01 for some parameters. This indicates problems during sampling. See https://arxiv.org/abs/1903.08008 for details\n"
     ]
    },
    {
     "name": "stdout",
     "output_type": "stream",
     "text": [
      "Total divergences:  0\n",
      "Max Rhat:  1.01\n",
      "Min effective sample size(bulk):  952.0\n",
      "Min effective sample size(tail):  619.0\n",
      "Min BFMI:  0.8687208105497038\n",
      "Good diagnostics, continue\n"
     ]
    },
    {
     "name": "stderr",
     "output_type": "stream",
     "text": [
      "Auto-assigning NUTS sampler...\n",
      "Initializing NUTS using jitter+adapt_diag...\n",
      "Multiprocess sampling (4 chains in 4 jobs)\n",
      "NUTS: [var_bar, var, d_mu]\n"
     ]
    },
    {
     "data": {
      "application/vnd.jupyter.widget-view+json": {
       "model_id": "bdfbcb2b277342379c4d9942f023e5bd",
       "version_major": 2,
       "version_minor": 0
      },
      "text/plain": [
       "Output()"
      ]
     },
     "metadata": {},
     "output_type": "display_data"
    },
    {
     "data": {
      "text/html": [
       "<pre style=\"white-space:pre;overflow-x:auto;line-height:normal;font-family:Menlo,'DejaVu Sans Mono',consolas,'Courier New',monospace\"></pre>\n"
      ],
      "text/plain": []
     },
     "metadata": {},
     "output_type": "display_data"
    },
    {
     "data": {
      "text/html": [
       "<pre style=\"white-space:pre;overflow-x:auto;line-height:normal;font-family:Menlo,'DejaVu Sans Mono',consolas,'Courier New',monospace\">\n",
       "</pre>\n"
      ],
      "text/plain": [
       "\n"
      ]
     },
     "metadata": {},
     "output_type": "display_data"
    },
    {
     "name": "stderr",
     "output_type": "stream",
     "text": [
      "Sampling 4 chains for 4_000 tune and 5_000 draw iterations (16_000 + 20_000 draws total) took 83 seconds.\n"
     ]
    },
    {
     "name": "stdout",
     "output_type": "stream",
     "text": [
      "Total divergences:  0\n",
      "Max Rhat:  1.0\n",
      "Min effective sample size(bulk):  1898.0\n",
      "Min effective sample size(tail):  1437.0\n",
      "Min BFMI:  0.7843309132880644\n",
      "Good diagnostics, continue\n"
     ]
    },
    {
     "name": "stderr",
     "output_type": "stream",
     "text": [
      "Auto-assigning NUTS sampler...\n",
      "Initializing NUTS using jitter+adapt_diag...\n",
      "Multiprocess sampling (4 chains in 4 jobs)\n",
      "NUTS: [var_bar, var, d_mu]\n"
     ]
    },
    {
     "data": {
      "application/vnd.jupyter.widget-view+json": {
       "model_id": "faa280f4cbf244a3be34555a049ea83e",
       "version_major": 2,
       "version_minor": 0
      },
      "text/plain": [
       "Output()"
      ]
     },
     "metadata": {},
     "output_type": "display_data"
    },
    {
     "data": {
      "text/html": [
       "<pre style=\"white-space:pre;overflow-x:auto;line-height:normal;font-family:Menlo,'DejaVu Sans Mono',consolas,'Courier New',monospace\"></pre>\n"
      ],
      "text/plain": []
     },
     "metadata": {},
     "output_type": "display_data"
    },
    {
     "data": {
      "text/html": [
       "<pre style=\"white-space:pre;overflow-x:auto;line-height:normal;font-family:Menlo,'DejaVu Sans Mono',consolas,'Courier New',monospace\">\n",
       "</pre>\n"
      ],
      "text/plain": [
       "\n"
      ]
     },
     "metadata": {},
     "output_type": "display_data"
    },
    {
     "name": "stderr",
     "output_type": "stream",
     "text": [
      "Sampling 4 chains for 4_000 tune and 5_000 draw iterations (16_000 + 20_000 draws total) took 83 seconds.\n"
     ]
    },
    {
     "name": "stdout",
     "output_type": "stream",
     "text": [
      "Total divergences:  0\n",
      "Max Rhat:  1.0\n",
      "Min effective sample size(bulk):  943.0\n",
      "Min effective sample size(tail):  546.0\n",
      "Min BFMI:  0.8247253929867193\n",
      "Good diagnostics, continue\n"
     ]
    },
    {
     "name": "stderr",
     "output_type": "stream",
     "text": [
      "Auto-assigning NUTS sampler...\n",
      "Initializing NUTS using jitter+adapt_diag...\n",
      "Multiprocess sampling (4 chains in 4 jobs)\n",
      "NUTS: [var_bar, var, d_mu]\n"
     ]
    },
    {
     "data": {
      "application/vnd.jupyter.widget-view+json": {
       "model_id": "52d8354152fc4c1f9c24d246ffe6156b",
       "version_major": 2,
       "version_minor": 0
      },
      "text/plain": [
       "Output()"
      ]
     },
     "metadata": {},
     "output_type": "display_data"
    },
    {
     "data": {
      "text/html": [
       "<pre style=\"white-space:pre;overflow-x:auto;line-height:normal;font-family:Menlo,'DejaVu Sans Mono',consolas,'Courier New',monospace\"></pre>\n"
      ],
      "text/plain": []
     },
     "metadata": {},
     "output_type": "display_data"
    },
    {
     "data": {
      "text/html": [
       "<pre style=\"white-space:pre;overflow-x:auto;line-height:normal;font-family:Menlo,'DejaVu Sans Mono',consolas,'Courier New',monospace\">\n",
       "</pre>\n"
      ],
      "text/plain": [
       "\n"
      ]
     },
     "metadata": {},
     "output_type": "display_data"
    },
    {
     "name": "stderr",
     "output_type": "stream",
     "text": [
      "Sampling 4 chains for 4_000 tune and 5_000 draw iterations (16_000 + 20_000 draws total) took 84 seconds.\n"
     ]
    },
    {
     "name": "stdout",
     "output_type": "stream",
     "text": [
      "Total divergences:  0\n",
      "Max Rhat:  1.0\n",
      "Min effective sample size(bulk):  1828.0\n",
      "Min effective sample size(tail):  4089.0\n",
      "Min BFMI:  0.8002021180321943\n",
      "Good diagnostics, continue\n"
     ]
    },
    {
     "name": "stderr",
     "output_type": "stream",
     "text": [
      "Auto-assigning NUTS sampler...\n",
      "Initializing NUTS using jitter+adapt_diag...\n",
      "Multiprocess sampling (4 chains in 4 jobs)\n",
      "NUTS: [var_bar, var, d_mu]\n"
     ]
    },
    {
     "data": {
      "application/vnd.jupyter.widget-view+json": {
       "model_id": "d594d926027647a7ad679f07928887ad",
       "version_major": 2,
       "version_minor": 0
      },
      "text/plain": [
       "Output()"
      ]
     },
     "metadata": {},
     "output_type": "display_data"
    },
    {
     "data": {
      "text/html": [
       "<pre style=\"white-space:pre;overflow-x:auto;line-height:normal;font-family:Menlo,'DejaVu Sans Mono',consolas,'Courier New',monospace\"></pre>\n"
      ],
      "text/plain": []
     },
     "metadata": {},
     "output_type": "display_data"
    },
    {
     "data": {
      "text/html": [
       "<pre style=\"white-space:pre;overflow-x:auto;line-height:normal;font-family:Menlo,'DejaVu Sans Mono',consolas,'Courier New',monospace\">\n",
       "</pre>\n"
      ],
      "text/plain": [
       "\n"
      ]
     },
     "metadata": {},
     "output_type": "display_data"
    },
    {
     "name": "stderr",
     "output_type": "stream",
     "text": [
      "Sampling 4 chains for 4_000 tune and 5_000 draw iterations (16_000 + 20_000 draws total) took 85 seconds.\n"
     ]
    },
    {
     "name": "stdout",
     "output_type": "stream",
     "text": [
      "Total divergences:  0\n",
      "Max Rhat:  1.0\n",
      "Min effective sample size(bulk):  1453.0\n",
      "Min effective sample size(tail):  2031.0\n",
      "Min BFMI:  0.8443638567120392\n",
      "Good diagnostics, continue\n"
     ]
    },
    {
     "data": {
      "text/html": [
       "<div>\n",
       "<style scoped>\n",
       "    .dataframe tbody tr th:only-of-type {\n",
       "        vertical-align: middle;\n",
       "    }\n",
       "\n",
       "    .dataframe tbody tr th {\n",
       "        vertical-align: top;\n",
       "    }\n",
       "\n",
       "    .dataframe thead th {\n",
       "        text-align: right;\n",
       "    }\n",
       "</style>\n",
       "<table border=\"1\" class=\"dataframe\">\n",
       "  <thead>\n",
       "    <tr style=\"text-align: right;\">\n",
       "      <th></th>\n",
       "      <th>prior</th>\n",
       "      <th>contraction</th>\n",
       "      <th>z_score</th>\n",
       "      <th>passed</th>\n",
       "      <th>param</th>\n",
       "      <th>rank</th>\n",
       "    </tr>\n",
       "  </thead>\n",
       "  <tbody>\n",
       "    <tr>\n",
       "      <th>0</th>\n",
       "      <td>658</td>\n",
       "      <td>0.873878</td>\n",
       "      <td>0.939599</td>\n",
       "      <td>True</td>\n",
       "      <td>var</td>\n",
       "      <td>16691</td>\n",
       "    </tr>\n",
       "    <tr>\n",
       "      <th>1</th>\n",
       "      <td>658</td>\n",
       "      <td>0.999819</td>\n",
       "      <td>-1.471221</td>\n",
       "      <td>True</td>\n",
       "      <td>var</td>\n",
       "      <td>1251</td>\n",
       "    </tr>\n",
       "    <tr>\n",
       "      <th>2</th>\n",
       "      <td>658</td>\n",
       "      <td>0.997148</td>\n",
       "      <td>0.034090</td>\n",
       "      <td>True</td>\n",
       "      <td>var</td>\n",
       "      <td>10441</td>\n",
       "    </tr>\n",
       "    <tr>\n",
       "      <th>3</th>\n",
       "      <td>658</td>\n",
       "      <td>0.713644</td>\n",
       "      <td>-1.264417</td>\n",
       "      <td>True</td>\n",
       "      <td>var</td>\n",
       "      <td>425</td>\n",
       "    </tr>\n",
       "    <tr>\n",
       "      <th>4</th>\n",
       "      <td>658</td>\n",
       "      <td>0.766430</td>\n",
       "      <td>-0.877268</td>\n",
       "      <td>True</td>\n",
       "      <td>var</td>\n",
       "      <td>3487</td>\n",
       "    </tr>\n",
       "  </tbody>\n",
       "</table>\n",
       "</div>"
      ],
      "text/plain": [
       "   prior  contraction   z_score  passed param   rank\n",
       "0    658     0.873878  0.939599    True   var  16691\n",
       "1    658     0.999819 -1.471221    True   var   1251\n",
       "2    658     0.997148  0.034090    True   var  10441\n",
       "3    658     0.713644 -1.264417    True   var    425\n",
       "4    658     0.766430 -0.877268    True   var   3487"
      ]
     },
     "execution_count": 16,
     "metadata": {},
     "output_type": "execute_result"
    }
   ],
   "source": [
    "from src.util import check_diagnostics\n",
    "\n",
    "rank_dicts = []\n",
    "for j in range(30):\n",
    "    prior_choice = np.random.choice(1000)\n",
    "\n",
    "    sim_y = prior_rep_effort.prior_predictive[\"y\"][0, prior_choice].values.ravel()\n",
    "    with rep_efort_model:\n",
    "        pm.set_data({\"sig\": sim_y})\n",
    "        sim_trace = pm.sample(\n",
    "           5000, tune=4000, return_inferencedata=True, target_accept=0.95\n",
    "        )\n",
    "        passsed = check_diagnostics(sim_trace, var_names=[\"var\", \"var_bar\"])\n",
    "        known_sigma = {\n",
    "            \"var\": np.mean(prior_rep_effort.prior[\"var\"].std(dim=(\"chain\", \"draw\")))\n",
    "        }\n",
    "        for param in [\"var\"]:\n",
    "            posterior_simmed = sim_trace.posterior[param]\n",
    "            prior_value = prior_rep_effort.prior[param][0, prior_choice, :]\n",
    "            # Get the rank of prior value for each posterior simulated value\n",
    "            ranks = np.array(\n",
    "                [\n",
    "                    np.sum(\n",
    "                        np.array(prior_value[idx]).ravel()\n",
    "                        > np.array(posterior_simmed[0:, :, idx]).ravel()\n",
    "                    )\n",
    "                    for idx in range(prior_value.shape[0])\n",
    "                ]\n",
    "            )\n",
    "            contraction = 1 - np.array(\n",
    "                np.std(posterior_simmed, axis=(0, 1)) ** 2 / known_sigma[param] ** 2\n",
    "            )\n",
    "            z_score = (prior_value - np.mean(posterior_simmed, axis=(0, 1))) / np.std(\n",
    "                posterior_simmed, axis=(0, 1)\n",
    "            )\n",
    "            rank_dicts.append(\n",
    "                {\n",
    "                    \"prior\": np.repeat(prior_choice, ranks.size),\n",
    "                    \"contraction\": contraction,\n",
    "                    \"z_score\": z_score,\n",
    "                    \"passed\": np.repeat(passsed[\"success\"], ranks.size),\n",
    "                    \"param\": np.repeat(param, ranks.size),\n",
    "                    \"rank\": ranks,\n",
    "                }\n",
    "            )\n",
    "\n",
    "rank_df = pd.concat([pd.DataFrame(item) for item in rank_dicts])\n",
    "rank_df.head()\n"
   ]
  },
  {
   "cell_type": "markdown",
   "metadata": {},
   "source": [
    "#### Step Ten: Algorithmic Calibration\n",
    "Let's check that our diagnostics are ubiquitously meeting criteria. The mean of our \"passed\" column should be 1.0, indicating that all simulated runs passed all algorthmic calibration criteria. \n"
   ]
  },
  {
   "cell_type": "code",
   "execution_count": null,
   "metadata": {},
   "outputs": [
    {
     "data": {
      "text/plain": [
       "0.9666666666666667"
      ]
     },
     "execution_count": 16,
     "metadata": {},
     "output_type": "execute_result"
    }
   ],
   "source": [
    "rank_df[\"passed\"].mean()\n"
   ]
  },
  {
   "cell_type": "markdown",
   "metadata": {},
   "source": [
    "#### Step Eleven: Inferential Calibration\n",
    "We're going to check some [standard plots](https://betanalpha.github.io/assets/case_studies/principled_bayesian_workflow.html), to verify that our \"true\" prior values are uniformly distributed in the posterior (A, C) and that the contraction is high and there are no unexpectedly extreme z-scores. This provides assurances that our model is well identified, and not substantially under/over-fit and that our prior model is not overly restrictive or problematic in some other way.  "
   ]
  },
  {
   "cell_type": "code",
   "execution_count": 17,
   "metadata": {},
   "outputs": [
    {
     "data": {
      "image/png": "[encoded data removed]",
      "text/plain": [
       "<Figure size 800x400 with 2 Axes>"
      ]
     },
     "metadata": {},
     "output_type": "display_data"
    }
   ],
   "source": [
    "#papermill_description=InferentialCalibration\n",
    "\n",
    "sns.set_context(\"paper\", font_scale=1.25)\n",
    "fig, ax = plt.subplots(1, 2, figsize=(8, 4))\n",
    "\n",
    "\n",
    "def rank_plot(temp, ax, bins=10):\n",
    "    plt.sca(ax)\n",
    "    sns.histplot(temp[\"rank\"], color=\"darkred\", bins=np.linspace(0, 20000, bins))\n",
    "    expected = temp[\"rank\"].shape[0] / (bins - 1)\n",
    "    low = stats.binom(temp[\"rank\"].shape[0], 1 / (bins - 1)).ppf(0.03)\n",
    "    high = stats.binom(temp[\"rank\"].shape[0], 1 / (bins - 1)).ppf(0.97)\n",
    "    plt.fill_between([0, 20000], [low, low], [high, high], alpha=0.4, color=\"grey\")\n",
    "    plt.plot([0, 20000], [expected, expected], \"k--\")\n",
    "    plt.xlim(0, 20000)\n",
    "    plt.ylim(0, expected * 1.5)\n",
    "\n",
    "\n",
    "def eye_test(temp, ax):\n",
    "    plt.sca(ax)\n",
    "    plt.scatter(temp[\"contraction\"], temp[\"z_score\"], alpha=0.3, color=\"darkred\")\n",
    "    plt.xlim(0, 1)\n",
    "    plt.xlabel(\"Contraction\")\n",
    "    plt.ylabel(\"Z-Score\")\n",
    "    plt.xlim(0, 1)\n",
    "    plt.ylim(-5, 5)\n",
    "\n",
    "\n",
    "temp = rank_df[rank_df[\"param\"] == \"var\"]\n",
    "rank_plot(temp, ax[0])\n",
    "plt.title(r\"$v$\")\n",
    "\n",
    "\n",
    "plt.sca(ax[1])\n",
    "eye_test(temp, ax[1])\n",
    "plt.xlim(0, 1)\n",
    "plt.title(r\"$v$\")\n",
    "\n",
    "\n",
    "from src.figures import label_subfigs\n",
    "\n",
    "label_subfigs(ax)\n",
    "plt.tight_layout()\n",
    "plt.savefig(\"output/figures/RepEffortEyeChart.png\", dpi=300)\n"
   ]
  },
  {
   "cell_type": "markdown",
   "metadata": {},
   "source": [
    "### Step Twelve: Fit the Observation"
   ]
  },
  {
   "cell_type": "code",
   "execution_count": 18,
   "metadata": {},
   "outputs": [
    {
     "name": "stderr",
     "output_type": "stream",
     "text": [
      "Auto-assigning NUTS sampler...\n",
      "Initializing NUTS using jitter+adapt_diag...\n",
      "Multiprocess sampling (4 chains in 4 jobs)\n",
      "NUTS: [var_bar, var, d_mu]\n"
     ]
    },
    {
     "data": {
      "application/vnd.jupyter.widget-view+json": {
       "model_id": "899f582f19a9477d94784bba0e083d07",
       "version_major": 2,
       "version_minor": 0
      },
      "text/plain": [
       "Output()"
      ]
     },
     "metadata": {},
     "output_type": "display_data"
    },
    {
     "data": {
      "text/html": [
       "<pre style=\"white-space:pre;overflow-x:auto;line-height:normal;font-family:Menlo,'DejaVu Sans Mono',consolas,'Courier New',monospace\"></pre>\n"
      ],
      "text/plain": []
     },
     "metadata": {},
     "output_type": "display_data"
    },
    {
     "data": {
      "text/html": [
       "<pre style=\"white-space:pre;overflow-x:auto;line-height:normal;font-family:Menlo,'DejaVu Sans Mono',consolas,'Courier New',monospace\">\n",
       "</pre>\n"
      ],
      "text/plain": [
       "\n"
      ]
     },
     "metadata": {},
     "output_type": "display_data"
    },
    {
     "name": "stderr",
     "output_type": "stream",
     "text": [
      "Sampling 4 chains for 4_000 tune and 5_000 draw iterations (16_000 + 20_000 draws total) took 85 seconds.\n"
     ]
    }
   ],
   "source": [
    "with rep_efort_model:\n",
    "    pm.set_data({\"sig\": df[\"Sig\"].astype(\"int\").values})\n",
    "    idata_rep_effort = pm.sample(5000, tune=4000, target_accept=0.95)\n"
   ]
  },
  {
   "cell_type": "markdown",
   "metadata": {},
   "source": [
    "### Step Thirteen: Diagnose Posterior Fit"
   ]
  },
  {
   "cell_type": "code",
   "execution_count": 19,
   "metadata": {},
   "outputs": [
    {
     "name": "stderr",
     "output_type": "stream",
     "text": [
      "/home/joseph/anaconda3/envs/rep_surveys/lib/python3.10/site-packages/arviz/utils.py:142: UserWarning: Items starting with ~: ['mu', 'alpha', 'B_raw'] have not been found and will be ignored\n",
      "  warnings.warn(\n",
      "/home/joseph/anaconda3/envs/rep_surveys/lib/python3.10/site-packages/arviz/utils.py:142: UserWarning: Items starting with ~: ['mu', 'alpha', 'B_raw'] have not been found and will be ignored\n",
      "  warnings.warn(\n",
      "/home/joseph/anaconda3/envs/rep_surveys/lib/python3.10/site-packages/arviz/utils.py:142: UserWarning: Items starting with ~: ['mu', 'alpha', 'B_raw'] have not been found and will be ignored\n",
      "  warnings.warn(\n"
     ]
    },
    {
     "name": "stdout",
     "output_type": "stream",
     "text": [
      "Total divergences:  0\n",
      "Max Rhat:  1.0\n",
      "Min effective sample size(bulk):  1932.0\n",
      "Min effective sample size(tail):  2700.0\n",
      "Min BFMI:  0.7726446312383999\n",
      "Good diagnostics, continue\n"
     ]
    },
    {
     "data": {
      "text/plain": [
       "{'Total divergences': array(0),\n",
       " 'Max Rhat': 1.0,\n",
       " 'Min effective sample size(bulk)': 1932.0,\n",
       " 'Min effective sample size(tail)': 2700.0,\n",
       " 'Min BFMI': 0.7726446312383999,\n",
       " 'success': True}"
      ]
     },
     "execution_count": 19,
     "metadata": {},
     "output_type": "execute_result"
    }
   ],
   "source": [
    "#papermill_description=PosteriorFit\n",
    "\n",
    "check_diagnostics(idata_rep_effort)\n"
   ]
  },
  {
   "cell_type": "markdown",
   "metadata": {},
   "source": [
    "### Step Fourteen: Posterior Retrodictive Checks"
   ]
  },
  {
   "cell_type": "code",
   "execution_count": 20,
   "metadata": {},
   "outputs": [
    {
     "name": "stderr",
     "output_type": "stream",
     "text": [
      "Sampling: [y]\n"
     ]
    },
    {
     "data": {
      "application/vnd.jupyter.widget-view+json": {
       "model_id": "72adb82d2a8747d6b6023dc523717b35",
       "version_major": 2,
       "version_minor": 0
      },
      "text/plain": [
       "Output()"
      ]
     },
     "metadata": {},
     "output_type": "display_data"
    },
    {
     "data": {
      "text/html": [
       "<pre style=\"white-space:pre;overflow-x:auto;line-height:normal;font-family:Menlo,'DejaVu Sans Mono',consolas,'Courier New',monospace\"></pre>\n"
      ],
      "text/plain": []
     },
     "metadata": {},
     "output_type": "display_data"
    },
    {
     "data": {
      "text/html": [
       "<pre style=\"white-space:pre;overflow-x:auto;line-height:normal;font-family:Menlo,'DejaVu Sans Mono',consolas,'Courier New',monospace\">\n",
       "</pre>\n"
      ],
      "text/plain": [
       "\n"
      ]
     },
     "metadata": {},
     "output_type": "display_data"
    }
   ],
   "source": [
    "# Sample posterior predictive\n",
    "with rep_efort_model:\n",
    "    ppc = pm.sample_posterior_predictive(idata_rep_effort)\n",
    "    idata_rep_effort.extend(ppc)\n"
   ]
  },
  {
   "cell_type": "code",
   "execution_count": 21,
   "metadata": {},
   "outputs": [
    {
     "data": {
      "image/png": "[encoded data removed]",
      "text/plain": [
       "<Figure size 640x480 with 1 Axes>"
      ]
     },
     "metadata": {},
     "output_type": "display_data"
    }
   ],
   "source": [
    "\n",
    "# Plot the observed vs expected significance\n",
    "idata_rep_effort.posterior_predictive[\"y\"]\n",
    "studies = []\n",
    "# groupby author_year and get mean of sig then create a list of studies\n",
    "\n",
    "for idx, ay in enumerate(df.groupby(\"author_year\")[\"Sig\"].mean().sort_values().index):\n",
    "    group = df[df[\"author_year\"] == ay]\n",
    "    post = idata_rep_effort.posterior_predictive[\"y\"][:, :, group.index]\n",
    "\n",
    "    observed = group[\"Sig\"].sum() / group[\"Sig\"].shape[0]\n",
    "    # plt.scatter(np.sum(post,axis=2).median()/group[1].shape[0],idx,color='k')\n",
    "\n",
    "    for q in [0.97, 0.89, 0.75, 0.5]:\n",
    "        low = np.quantile(np.sum(post, axis=2), q) / group.shape[0]\n",
    "        high = np.quantile(np.sum(post, axis=2), 1 - q) / group.shape[0]\n",
    "        plt.plot(\n",
    "            [observed, observed], [low, high], color=\"k\", lw=(1 - q) * 11, alpha=0.5\n",
    "        )\n",
    "\n",
    "    median = np.median(np.sum(post, axis=2)) / group.shape[0]\n",
    "    # plt.scatter([observed, ], [idx-.5, idx+.5], color='k',lw=1)\n",
    "\n",
    "    studies.append(group)\n",
    "# plt.yticks(range(len(studies)), studies)\n",
    "plt.xlim(0, 1)\n",
    "plt.ylim(0, 1)\n",
    "plt.plot([0, 1], [0, 1], color=\"k\", ls=\"--\")\n",
    "plt.xlabel(\"Observed Replication Significance\")\n",
    "plt.ylabel(\"Expected Replication Significance\")\n",
    "plt.savefig(\"./output/figures/RepEffortObservedVsExpected.png\")\n"
   ]
  },
  {
   "cell_type": "code",
   "execution_count": 22,
   "metadata": {},
   "outputs": [
    {
     "data": {
      "text/html": [
       "<div>\n",
       "<style scoped>\n",
       "    .dataframe tbody tr th:only-of-type {\n",
       "        vertical-align: middle;\n",
       "    }\n",
       "\n",
       "    .dataframe tbody tr th {\n",
       "        vertical-align: top;\n",
       "    }\n",
       "\n",
       "    .dataframe thead th {\n",
       "        text-align: right;\n",
       "    }\n",
       "</style>\n",
       "<table border=\"1\" class=\"dataframe\">\n",
       "  <thead>\n",
       "    <tr style=\"text-align: right;\">\n",
       "      <th></th>\n",
       "      <th>mean</th>\n",
       "      <th>sd</th>\n",
       "      <th>hdi_3%</th>\n",
       "      <th>hdi_97%</th>\n",
       "      <th>mcse_mean</th>\n",
       "      <th>mcse_sd</th>\n",
       "      <th>ess_bulk</th>\n",
       "      <th>ess_tail</th>\n",
       "      <th>r_hat</th>\n",
       "    </tr>\n",
       "  </thead>\n",
       "  <tbody>\n",
       "    <tr>\n",
       "      <th>OSC2015</th>\n",
       "      <td>0.152</td>\n",
       "      <td>0.024</td>\n",
       "      <td>0.109</td>\n",
       "      <td>0.199</td>\n",
       "      <td>0.000</td>\n",
       "      <td>0.000</td>\n",
       "      <td>4320.0</td>\n",
       "      <td>8370.0</td>\n",
       "      <td>1.0</td>\n",
       "    </tr>\n",
       "    <tr>\n",
       "      <th>Soto2019</th>\n",
       "      <td>0.215</td>\n",
       "      <td>0.063</td>\n",
       "      <td>0.117</td>\n",
       "      <td>0.335</td>\n",
       "      <td>0.001</td>\n",
       "      <td>0.001</td>\n",
       "      <td>1932.0</td>\n",
       "      <td>3437.0</td>\n",
       "      <td>1.0</td>\n",
       "    </tr>\n",
       "    <tr>\n",
       "      <th>Boyce2023</th>\n",
       "      <td>0.169</td>\n",
       "      <td>0.030</td>\n",
       "      <td>0.116</td>\n",
       "      <td>0.226</td>\n",
       "      <td>0.000</td>\n",
       "      <td>0.000</td>\n",
       "      <td>4248.0</td>\n",
       "      <td>8134.0</td>\n",
       "      <td>1.0</td>\n",
       "    </tr>\n",
       "    <tr>\n",
       "      <th>Protzko2023</th>\n",
       "      <td>0.292</td>\n",
       "      <td>0.128</td>\n",
       "      <td>0.100</td>\n",
       "      <td>0.527</td>\n",
       "      <td>0.003</td>\n",
       "      <td>0.002</td>\n",
       "      <td>2036.0</td>\n",
       "      <td>3698.0</td>\n",
       "      <td>1.0</td>\n",
       "    </tr>\n",
       "    <tr>\n",
       "      <th>Camerer2018</th>\n",
       "      <td>0.292</td>\n",
       "      <td>0.102</td>\n",
       "      <td>0.126</td>\n",
       "      <td>0.477</td>\n",
       "      <td>0.002</td>\n",
       "      <td>0.001</td>\n",
       "      <td>4263.0</td>\n",
       "      <td>7990.0</td>\n",
       "      <td>1.0</td>\n",
       "    </tr>\n",
       "    <tr>\n",
       "      <th>Cova2021</th>\n",
       "      <td>0.451</td>\n",
       "      <td>0.163</td>\n",
       "      <td>0.199</td>\n",
       "      <td>0.757</td>\n",
       "      <td>0.003</td>\n",
       "      <td>0.002</td>\n",
       "      <td>3380.0</td>\n",
       "      <td>5991.0</td>\n",
       "      <td>1.0</td>\n",
       "    </tr>\n",
       "    <tr>\n",
       "      <th>Camerer2016</th>\n",
       "      <td>0.236</td>\n",
       "      <td>0.089</td>\n",
       "      <td>0.100</td>\n",
       "      <td>0.400</td>\n",
       "      <td>0.001</td>\n",
       "      <td>0.001</td>\n",
       "      <td>5436.0</td>\n",
       "      <td>8084.0</td>\n",
       "      <td>1.0</td>\n",
       "    </tr>\n",
       "  </tbody>\n",
       "</table>\n",
       "</div>"
      ],
      "text/plain": [
       "              mean     sd  hdi_3%  hdi_97%  mcse_mean  mcse_sd  ess_bulk  \\\n",
       "OSC2015      0.152  0.024   0.109    0.199      0.000    0.000    4320.0   \n",
       "Soto2019     0.215  0.063   0.117    0.335      0.001    0.001    1932.0   \n",
       "Boyce2023    0.169  0.030   0.116    0.226      0.000    0.000    4248.0   \n",
       "Protzko2023  0.292  0.128   0.100    0.527      0.003    0.002    2036.0   \n",
       "Camerer2018  0.292  0.102   0.126    0.477      0.002    0.001    4263.0   \n",
       "Cova2021     0.451  0.163   0.199    0.757      0.003    0.002    3380.0   \n",
       "Camerer2016  0.236  0.089   0.100    0.400      0.001    0.001    5436.0   \n",
       "\n",
       "             ess_tail  r_hat  \n",
       "OSC2015        8370.0    1.0  \n",
       "Soto2019       3437.0    1.0  \n",
       "Boyce2023      8134.0    1.0  \n",
       "Protzko2023    3698.0    1.0  \n",
       "Camerer2018    7990.0    1.0  \n",
       "Cova2021       5991.0    1.0  \n",
       "Camerer2016    8084.0    1.0  "
      ]
     },
     "execution_count": 22,
     "metadata": {},
     "output_type": "execute_result"
    }
   ],
   "source": [
    "temp = idata_rep_effort.posterior['var'] * np.sqrt(2/np.pi)\n",
    "\n",
    "#select not OSC2015\n",
    "summary_table = az.summary(temp)\n",
    "summary_table.index = [item[4:-1] for item in summary_table.index]\n",
    "\n",
    "summary_table.to_latex('./output/tables/avgEffectTotal.tex',float_format=\"%.2f\")\n",
    "\n",
    "summary_table"
   ]
  },
  {
   "cell_type": "code",
   "execution_count": 23,
   "metadata": {},
   "outputs": [
    {
     "data": {
      "text/html": [
       "<div>\n",
       "<style scoped>\n",
       "    .dataframe tbody tr th:only-of-type {\n",
       "        vertical-align: middle;\n",
       "    }\n",
       "\n",
       "    .dataframe tbody tr th {\n",
       "        vertical-align: top;\n",
       "    }\n",
       "\n",
       "    .dataframe thead th {\n",
       "        text-align: right;\n",
       "    }\n",
       "</style>\n",
       "<table border=\"1\" class=\"dataframe\">\n",
       "  <thead>\n",
       "    <tr style=\"text-align: right;\">\n",
       "      <th></th>\n",
       "      <th>mean</th>\n",
       "      <th>sd</th>\n",
       "      <th>hdi_3%</th>\n",
       "      <th>hdi_97%</th>\n",
       "      <th>mcse_mean</th>\n",
       "      <th>mcse_sd</th>\n",
       "      <th>ess_bulk</th>\n",
       "      <th>ess_tail</th>\n",
       "      <th>r_hat</th>\n",
       "    </tr>\n",
       "  </thead>\n",
       "  <tbody>\n",
       "    <tr>\n",
       "      <th>Soto2019</th>\n",
       "      <td>0.063</td>\n",
       "      <td>0.068</td>\n",
       "      <td>-0.055</td>\n",
       "      <td>0.188</td>\n",
       "      <td>0.002</td>\n",
       "      <td>0.001</td>\n",
       "      <td>2029.0</td>\n",
       "      <td>3276.0</td>\n",
       "      <td>1.0</td>\n",
       "    </tr>\n",
       "    <tr>\n",
       "      <th>Boyce2023</th>\n",
       "      <td>0.017</td>\n",
       "      <td>0.038</td>\n",
       "      <td>-0.055</td>\n",
       "      <td>0.089</td>\n",
       "      <td>0.001</td>\n",
       "      <td>0.000</td>\n",
       "      <td>4382.0</td>\n",
       "      <td>8213.0</td>\n",
       "      <td>1.0</td>\n",
       "    </tr>\n",
       "    <tr>\n",
       "      <th>Protzko2023</th>\n",
       "      <td>0.140</td>\n",
       "      <td>0.130</td>\n",
       "      <td>-0.057</td>\n",
       "      <td>0.388</td>\n",
       "      <td>0.003</td>\n",
       "      <td>0.002</td>\n",
       "      <td>2047.0</td>\n",
       "      <td>3904.0</td>\n",
       "      <td>1.0</td>\n",
       "    </tr>\n",
       "    <tr>\n",
       "      <th>Camerer2018</th>\n",
       "      <td>0.140</td>\n",
       "      <td>0.104</td>\n",
       "      <td>-0.032</td>\n",
       "      <td>0.335</td>\n",
       "      <td>0.002</td>\n",
       "      <td>0.001</td>\n",
       "      <td>4425.0</td>\n",
       "      <td>8188.0</td>\n",
       "      <td>1.0</td>\n",
       "    </tr>\n",
       "    <tr>\n",
       "      <th>Cova2021</th>\n",
       "      <td>0.298</td>\n",
       "      <td>0.165</td>\n",
       "      <td>0.031</td>\n",
       "      <td>0.602</td>\n",
       "      <td>0.003</td>\n",
       "      <td>0.002</td>\n",
       "      <td>3446.0</td>\n",
       "      <td>6675.0</td>\n",
       "      <td>1.0</td>\n",
       "    </tr>\n",
       "    <tr>\n",
       "      <th>Camerer2016</th>\n",
       "      <td>0.084</td>\n",
       "      <td>0.092</td>\n",
       "      <td>-0.068</td>\n",
       "      <td>0.252</td>\n",
       "      <td>0.001</td>\n",
       "      <td>0.001</td>\n",
       "      <td>5289.0</td>\n",
       "      <td>8328.0</td>\n",
       "      <td>1.0</td>\n",
       "    </tr>\n",
       "  </tbody>\n",
       "</table>\n",
       "</div>"
      ],
      "text/plain": [
       "              mean     sd  hdi_3%  hdi_97%  mcse_mean  mcse_sd  ess_bulk  \\\n",
       "Soto2019     0.063  0.068  -0.055    0.188      0.002    0.001    2029.0   \n",
       "Boyce2023    0.017  0.038  -0.055    0.089      0.001    0.000    4382.0   \n",
       "Protzko2023  0.140  0.130  -0.057    0.388      0.003    0.002    2047.0   \n",
       "Camerer2018  0.140  0.104  -0.032    0.335      0.002    0.001    4425.0   \n",
       "Cova2021     0.298  0.165   0.031    0.602      0.003    0.002    3446.0   \n",
       "Camerer2016  0.084  0.092  -0.068    0.252      0.001    0.001    5289.0   \n",
       "\n",
       "             ess_tail  r_hat  \n",
       "Soto2019       3276.0    1.0  \n",
       "Boyce2023      8213.0    1.0  \n",
       "Protzko2023    3904.0    1.0  \n",
       "Camerer2018    8188.0    1.0  \n",
       "Cova2021       6675.0    1.0  \n",
       "Camerer2016    8328.0    1.0  "
      ]
     },
     "execution_count": 23,
     "metadata": {},
     "output_type": "execute_result"
    }
   ],
   "source": [
    "temp = idata_rep_effort.posterior['var'] * np.sqrt(2/np.pi)\n",
    "\n",
    "OSC2015 = temp.sel(paper='OSC2015')\n",
    "temp = temp - OSC2015\n",
    "#select not OSC2015\n",
    "temp = temp.where(temp != 0).dropna('paper')\n",
    "summary_table = az.summary(temp)\n",
    "summary_table.index = [item[4:-1] for item in summary_table.index]\n",
    "\n",
    "summary_table.to_latex('./output/tables/avgEffectContrast.tex',float_format=\"%.2f\")\n",
    "\n",
    "summary_table"
   ]
  },
  {
   "cell_type": "markdown",
   "metadata": {},
   "source": [
    "## Analaysis\n",
    "\n",
    "### Analaysis of replicability as a function of sample size. \n",
    "Below, we plot the observed rates of replication at the median sample size and compare that with the posterior predictive estimate of replication significance. To do so, we first take the median across our paper-wide estimates of $\\sqrt{\\sigma^2 + \\tau^2}$. Next, we run this through our publication rate function setting it to tau. We note that the values of tau and sigma individually do not mattter for publication rate, such that setting sigma to zero produces no overall effect."
   ]
  },
  {
   "cell_type": "code",
   "execution_count": 24,
   "metadata": {},
   "outputs": [
    {
     "data": {
      "image/png": "[encoded data removed]",
      "text/plain": [
       "<Figure size 400x400 with 1 Axes>"
      ]
     },
     "metadata": {},
     "output_type": "display_data"
    }
   ],
   "source": [
    "sns.set_context('paper', font_scale=1.25)\n",
    "sns.set_style('white')\n",
    "#Helper functions for DRYer code\n",
    "def plot_misc():\n",
    "    plt.xlim(10, 10000)\n",
    "    plt.ylim(0, 1)\n",
    "    plt.xscale(\"log\")\n",
    "    plt.ylabel(r\"$P(p_{\\text{rep}} < .05)$\")\n",
    "    plt.xlabel(\"Replication Sample Size\")\n",
    "\n",
    "plt.figure(figsize=(4,4))\n",
    "\n",
    "def label_jitter(label):\n",
    "    if label == \"OSC 2015\":\n",
    "        jitter = [-10, +0.02]\n",
    "    elif label == \"Boyce 2023\":\n",
    "        jitter = [300, +0.03]\n",
    "    elif label == \"Camerer 2016\":\n",
    "        jitter = [-20, 0]\n",
    "    elif label == \"Camerer 2018\":\n",
    "        jitter = [+1400, 0.03]\n",
    "    elif label == \"Protzko 2023\":\n",
    "        jitter = [+8500, +0.02]\n",
    "    elif label == \"Soto 2019\":\n",
    "        jitter = [-200, 0]\n",
    "    elif label == \"Cova 2021\":\n",
    "        jitter = [-20, 0.0]\n",
    "    else:\n",
    "        jitter = [0, 0]\n",
    "    return jitter\n",
    "\n",
    "#Calculate posterior predictive publication rate\n",
    "tau = idata_rep_effort.posterior[\"var\"].median(dim=\"paper\")[:, ::5] \n",
    "sigma = np.repeat(0, tau.size) #OK to set to zero because we're working with pub rate\n",
    "sigrate = lambda N: np.array(\n",
    "    [publication_rate(t, s, 1, N) for t, s in zip(tau, sigma)]\n",
    ").ravel() #Function so we avoid for loop\n",
    "N = np.logspace(1, 4, 40).astype(int) #Sample sizes\n",
    "y = [sigrate(item) for item in N] #Calculate the publication rate for each sample size\n",
    "\n",
    "#Plot the median and quantiles\n",
    "plt.plot(N, np.median(np.vstack(y),1), color=\"darkred\", zorder=1)\n",
    "for q in [0.03, 0.11, 0.25, 0.5]:\n",
    "    low, high = np.quantile(np.vstack(y), [q / 2, 1 - q / 2], axis=1)\n",
    "    plt.fill_between(N, low, high, alpha=0.2, color=\"darkred\", lw=0, zorder=1)\n",
    "plot_misc()\n",
    "\n",
    "\n",
    "\n",
    "# Group by and annotate with the author_year, x as the median N, and y as the mean Sig\n",
    "author_years = df[\"author_year\"].unique()\n",
    "\n",
    "\n",
    "for idx, group in enumerate(df.groupby(\"author_year\")):\n",
    "    pass\n",
    "    post = idata_rep_effort.posterior_predictive[\"y\"][:, :, group[1].index]\n",
    "\n",
    "    # plt.scatter(np.sum(post,axis=2).median()/group[1].shape[0],idx,color='k')\n",
    "\n",
    "    median_n = group[1][\"n\"].median()\n",
    "    for q in [0.97, 0.89, 0.75, 0.5]:\n",
    "        low = np.quantile(np.sum(post, axis=2), q) / group[1].shape[0]\n",
    "        high = np.quantile(np.sum(post, axis=2), 1 - q) / group[1].shape[0]\n",
    "        plt.plot(\n",
    "            [median_n, median_n],\n",
    "            [low, high],\n",
    "            color=\"darkred\",\n",
    "            lw=(1 - q) * 11,\n",
    "            zorder=2,\n",
    "        )\n",
    "\n",
    "    \n",
    "    median = np.median(np.sum(post, axis=2)) / group[1].shape[0]\n",
    "    # plt.plot([median, median], [idx-.5, idx+.5], color='k',lw=1)\n",
    "    label = (\n",
    "        group[1][\"author_year\"].values[0][:-4]\n",
    "        + \" \"\n",
    "        + group[1][\"author_year\"].values[0][-4:]\n",
    "    )\n",
    "\n",
    "    jitter = label_jitter(label)\n",
    "    plt.text(\n",
    "        median_n + jitter[0],\n",
    "        median + jitter[1],\n",
    "        label,\n",
    "        ha=\"right\",\n",
    "        va=\"center\",\n",
    "        fontsize=8,\n",
    "        color=\"k\",\n",
    "        zorder=3,\n",
    "    )\n",
    "    studies.append(group[0])\n",
    "\n",
    "plt.scatter(\n",
    "    df.groupby(\"author_year\")[\"n\"].median(),\n",
    "    df.groupby(\"author_year\")[\"Sig\"].mean(),\n",
    "    color=\"k\",\n",
    "    zorder=3,\n",
    ")\n",
    "\n",
    "# params\n",
    "var = idata_rep_effort.posterior[\"var\"].sel(paper=\"Cova2021\").median() \n",
    "p_sig = publication_rate(var, 0, 1, N)\n",
    "plt.plot(N, p_sig, color=\"darkred\", ls=\"-\")\n",
    "\n",
    "\n",
    "plot_misc()\n",
    "plt.tight_layout()\n",
    "plt.savefig(\"./output/figures/SigVsSampleSize.png\", dpi=300)"
   ]
  },
  {
   "cell_type": "markdown",
   "metadata": {},
   "source": [
    "### Model Independent version "
   ]
  },
  {
   "cell_type": "code",
   "execution_count": 25,
   "metadata": {},
   "outputs": [
    {
     "name": "stdout",
     "output_type": "stream",
     "text": [
      "28.0\n",
      "10.0\n",
      "13.0\n",
      "21.0\n",
      "34.0\n",
      "35.0\n",
      "63.0\n"
     ]
    },
    {
     "data": {
      "image/png": "[encoded data removed]",
      "text/plain": [
       "<Figure size 400x400 with 1 Axes>"
      ]
     },
     "metadata": {},
     "output_type": "display_data"
    }
   ],
   "source": [
    "import statsmodels.api as sm\n",
    "\n",
    "\n",
    "def binomial_confidence_interval(successes, trials, confidence=0.95):\n",
    "    \"\"\"\n",
    "    Calculate the binomial confidence interval using statsmodels.\n",
    "\n",
    "    Parameters:\n",
    "    - successes: number of successes\n",
    "    - trials: total number of trials\n",
    "    - confidence: confidence level (default is 0.95)\n",
    "\n",
    "    Returns:\n",
    "    - Tuple containing the lower and upper bounds of the confidence interval\n",
    "    \"\"\"\n",
    "    result = sm.stats.proportion_confint(successes, trials, alpha=1 - confidence)\n",
    "    return result\n",
    "\n",
    "\n",
    "plt.figure(figsize=(4, 4))\n",
    "\n",
    "# params\n",
    "d = 0.2\n",
    "mean_effect = d * np.sqrt(np.pi / 2)\n",
    "sigma = 0\n",
    "tau = np.sqrt(mean_effect**2 - sigma**2)\n",
    "N = np.logspace(1, 4, 100)\n",
    "\n",
    "p_sig = publication_rate(tau, sigma, 1, N)\n",
    "plt.plot(N, p_sig, label=\"Publication Rate\", color=\"darkred\", ls=\"--\")\n",
    "\n",
    "plt.xscale(\"log\")\n",
    "plt.ylim(0, 1)\n",
    "plt.xlabel(\"Sample Size\")\n",
    "plt.ylabel(r\"$P(p_{\\text{rep}} < .05)\")\n",
    "plt.xlim(10, 10000)\n",
    "plt.tight_layout()\n",
    "\n",
    "for idx, group in enumerate(df.groupby(\"author_year\")):\n",
    "    pass\n",
    "    post = idata_rep_effort.posterior_predictive[\"y\"][:, :, group[1].index]\n",
    "\n",
    "    # plt.scatter(np.sum(post,axis=2).median()/group[1].shape[0],idx,color='k')\n",
    "\n",
    "    median_n = group[1][\"n\"].median()\n",
    "\n",
    "    successes = group[1][\"Sig\"].sum()\n",
    "    print(successes)\n",
    "    trials = group[1].shape[0]\n",
    "    low, high = binomial_confidence_interval(successes, trials)\n",
    "    plt.plot([median_n, median_n], [low, high], color=\"darkred\", lw=1, zorder=2)\n",
    "    plt.scatter(median_n, successes / trials, color=\"k\", zorder=3)\n",
    "    median = np.median(np.sum(post, axis=2)) / group[1].shape[0]\n",
    "    # plt.plot([median, median], [idx-.5, idx+.5], color='k',lw=1)\n",
    "    label = (\n",
    "        group[1][\"author_year\"].values[0][:-4]\n",
    "        + \" \"\n",
    "        + group[1][\"author_year\"].values[0][-4:]\n",
    "    )\n",
    "    if label == \"OSC 2015\":\n",
    "        jitter = [-10, +0.02]\n",
    "    elif label == \"Boyce 2023\":\n",
    "        jitter = [300, +0.03]\n",
    "    elif label == \"Camerer 2016\":\n",
    "        jitter = [-20, 0]\n",
    "    elif label == \"Camerer 2018\":\n",
    "        jitter = [+1400, 0.03]\n",
    "    elif label == \"Protzko 2023\":\n",
    "        jitter = [+8500, +0.02]\n",
    "    elif label == \"Soto 2019\":\n",
    "        jitter = [-200, 0]\n",
    "    elif label == \"Cova 2018\":\n",
    "        jitter = [-20, 0.0]\n",
    "    else:\n",
    "        jitter = [0, 0]\n",
    "    plt.text(\n",
    "        median_n + jitter[0],\n",
    "        median + jitter[1],\n",
    "        label,\n",
    "        ha=\"right\",\n",
    "        va=\"center\",\n",
    "        fontsize=8,\n",
    "        color=\"k\",\n",
    "        zorder=3,\n",
    "    )\n",
    "    studies.append(group[0])\n",
    "\n",
    "plt.tight_layout()\n",
    "plt.savefig(\"./output/figures/ModelIndependentRepSig.png\", dpi=300)\n"
   ]
  },
  {
   "cell_type": "markdown",
   "metadata": {},
   "source": [
    "# ML 5 "
   ]
  },
  {
   "cell_type": "markdown",
   "metadata": {},
   "source": [
    "## Load Data "
   ]
  },
  {
   "cell_type": "code",
   "execution_count": 26,
   "metadata": {},
   "outputs": [
    {
     "name": "stderr",
     "output_type": "stream",
     "text": [
      "Got stderr: Jun 07, 2024 10:40:38 AM org.apache.pdfbox.pdmodel.font.PDFont loadUnicodeCmap\n",
      "WARNING: Invalid ToUnicode CMap in font AAAAAE+ITCGaramondStd-Lt\n",
      "Jun 07, 2024 10:40:38 AM org.apache.pdfbox.pdmodel.font.PDFont loadUnicodeCmap\n",
      "WARNING: Using predefined identity CMap instead\n",
      "Jun 07, 2024 10:40:38 AM org.apache.pdfbox.pdmodel.font.PDFont loadUnicodeCmap\n",
      "WARNING: Invalid ToUnicode CMap in font AAAAAE+ITCGaramondStd-Lt\n",
      "Jun 07, 2024 10:40:38 AM org.apache.pdfbox.pdmodel.font.PDFont loadUnicodeCmap\n",
      "WARNING: Using predefined identity CMap instead\n",
      "\n"
     ]
    }
   ],
   "source": [
    "tables = tabula.read_pdf(\"dat/ML5.pdf\", pages=\"all\")\n"
   ]
  },
  {
   "cell_type": "code",
   "execution_count": 27,
   "metadata": {},
   "outputs": [],
   "source": [
    "rpp_median_n = np.median(\n",
    "    tables[0][\"Unnamed: 0\"][2:].apply(lambda x: x.split(\" \")[0])[::2].astype(\"int\")\n",
    ")\n",
    "total_n = np.median(\n",
    "    tables[0][\"Unnamed: 1\"][2:]\n",
    "    .apply(lambda x: x.split(\" \")[0].replace(\",\", \"\"))[::2]\n",
    "    .astype(\"int\")\n",
    "    + tables[0][\"Unnamed: 2\"][2:]\n",
    "    .apply(lambda x: x.split(\" \")[0].replace(\",\", \"\"))[::2]\n",
    "    .astype(\"int\")\n",
    ")\n",
    "rpp_protocol_n = np.median(\n",
    "    tables[0][\"Unnamed: 1\"][2:]\n",
    "    .apply(lambda x: x.split(\" \")[0].replace(\",\", \"\"))[::2]\n",
    "    .astype(\"int\")\n",
    ")\n",
    "rpp_revised_n = np.median(\n",
    "    tables[0][\"Unnamed: 2\"][2:]\n",
    "    .apply(lambda x: x.split(\" \")[0].replace(\",\", \"\"))[::2]\n",
    "    .astype(\"int\")\n",
    ")\n"
   ]
  },
  {
   "cell_type": "markdown",
   "metadata": {},
   "source": [
    "In response to low observed rates of replicability in the Open Science Collaborations' 2015 paper, critics argued that the replications had failed due to ``bad faith'' replication. In response, a many-labs style replication effort was conducted using larger sample sizes, retesting 10 of the effects which had failed to achieve significance initially. Moreover, the authors subjected replication protocols to pre-peer review, creating revised protocols in order to test hypotheses surrounding bad faith. For the original and revised protocols, the observed rates of significance during replication were 1 and 2 studies respectively. A combined meta-analysis indicated four of the six studies were significant. The authors' combined meta-analytic estimate included both the original study and the original replication. Using their provided code and data (https://osf.io/8nmga/), we verified four were significant even if the original two studies are excluded. \n",
    "\n",
    "To examine these results in the context of our statistical model requires a some algebra. For simplicity, we refer to the probability of significance at a lower sample size($N_l$) as $p_l=\\text{Pr}(p<.05 \\mid N=N_l)$, and at a higher sample ($N_h$) size as $p_l=\\text{Pr}(p<.05 \\mid N=N_h)$. Each of these can be calculated using our model and either the posterior estimate of $v$ and the median replication sample size. Increasing the sample size, we expect the absolute change in replicability to increase by $p_h - p_l$. This is the additional proportion of the total replication effort expected to achieve significance on replication. However, as the sampling frame is only among the initially non-significant replications we need to take this into account. We can do so by multiplying this quantity by the proportion of replications which fail to achieve significance at $N_l$:\n",
    "\n",
    "\\begin{align}\n",
    "Pr(P<.05) = (p_h - p_l) * (1-p_l)\n",
    "\\end{align}\n",
    "\n",
    "The gives us the expected proportion of non-significant finding expected to achieve significance when replicated at a larger sample size. We can simulate the number of observed replications using our posterior estimate of $v$ from our statistical model described above. Using the literature-wide estimate, or the OSC 2015 estimate we find that the observed rates of replication are well-within what would be expected given variation in sample size alone(Fit. \\ref{sifig:ML5})."
   ]
  },
  {
   "cell_type": "code",
   "execution_count": 28,
   "metadata": {},
   "outputs": [
    {
     "name": "stdout",
     "output_type": "stream",
     "text": [
      "Expected rate:\n",
      "2.0\n",
      "94% CR\n",
      "0.0 5.0\n",
      "Expected rate:\n",
      "2.0\n",
      "94% CR\n",
      "0.0 5.0\n",
      "Expected rate:\n",
      "2.0\n",
      "94% CR\n",
      "0.0 5.0\n",
      "Expected rate:\n",
      "3.0\n",
      "94% CR\n",
      "1.0 6.0\n",
      "Expected rate:\n",
      "2.0\n",
      "94% CR\n",
      "0.0 5.0\n",
      "Expected rate:\n",
      "3.0\n",
      "94% CR\n",
      "0.0 5.029999999998836\n"
     ]
    },
    {
     "data": {
      "image/png": "[encoded data removed]",
      "text/plain": [
       "<Figure size 1200x800 with 6 Axes>"
      ]
     },
     "metadata": {},
     "output_type": "display_data"
    }
   ],
   "source": [
    "# Calculate key parameters\n",
    "sig = 0.09\n",
    "tau = np.sqrt(idata_rep_effort.posterior[\"var\"].median(axis=2).values ** 2 - sig**2)\n",
    "sigma = np.repeat(sig, tau.size)\n",
    "\n",
    "# Create a labmda function to calculate the rate of significance\n",
    "sigrate = lambda N: np.array(\n",
    "    [publication_rate(t, s, 1, N) for t, s in zip(tau, sigma)]\n",
    ").ravel()\n",
    "\n",
    "# Create a figure with 3 subplots\n",
    "fig, axs = plt.subplots(2, 3, figsize=(12, 8))\n",
    "observed = [4, 1, 2]\n",
    "\n",
    "ax = axs[0]\n",
    "\n",
    "# Precalculate the rate of significance for the total sample size\n",
    "y2 = sigrate(71)\n",
    "\n",
    "# List of subplot titles\n",
    "title = [\"Total\", \"Original\", \"Revised\"]\n",
    "\n",
    "# Loop through the subsample sizes and calculate the rate of significance\n",
    "# Then plot the posterior predictive distribution of the number of significant replications\n",
    "for idx, size in enumerate([total_n, rpp_protocol_n, rpp_revised_n]):\n",
    "    plt.sca(ax[idx])\n",
    "\n",
    "    # Calculate the expected rate of significance and the marginal gain, then multiply by the rate of non-significance\n",
    "    y1 = sigrate(size)\n",
    "    y = (y1 - y2) * (1 - y2)\n",
    "\n",
    "    # Binomial simulation from the posterior predictive distribution\n",
    "    draws = np.random.binomial(10, y)\n",
    "\n",
    "    # Print the expected rate and the 94% CR\n",
    "    print(\"Expected rate:\")\n",
    "    print(np.median(draws))\n",
    "    print(\"94% CR\")\n",
    "    low = np.quantile(draws, 0.03)\n",
    "    high = np.quantile(draws, 0.97)\n",
    "    print(low, high)\n",
    "\n",
    "    # Plot the histogram\n",
    "    plt.title(title[idx] + \", N=\" + str(size))\n",
    "    # pretty histogram\n",
    "    sns.histplot(\n",
    "        np.random.binomial(10, y), bins=np.linspace(-0.5, 10.5, 12), color=\"grey\"\n",
    "    )\n",
    "    # Recolor the observed bar\n",
    "    plt.gca().patches[observed[idx]].set_facecolor(\"darkred\")\n",
    "\n",
    "    # Set the x and y limits, and label the axes\n",
    "    plt.xlim(-0.5, 10.5)\n",
    "    plt.xlabel(\"# of Significant Replications\")\n",
    "    plt.ylabel(\"Posterior predictive count\")\n",
    "\n",
    "\n",
    "# Calculate key parameters, this time for OSC specifically\n",
    "sig = 0.09\n",
    "tau = np.sqrt(\n",
    "    idata_rep_effort.posterior[\"var\"].sel(paper=\"OSC2015\").values ** 2 - sig**2\n",
    ")  # Note, this line does all the work\n",
    "sigma = np.repeat(sig, tau.size)\n",
    "\n",
    "# Create a labmda function to calculate the rate of significance\n",
    "sigrate = lambda N: np.array(\n",
    "    [publication_rate(t, s, 1, N) for t, s in zip(tau, sigma)]\n",
    ").ravel()\n",
    "\n",
    "\n",
    "# Set axes to bottom row\n",
    "ax = axs[1]\n",
    "# Precalculate the rate of significance for the total sample size\n",
    "y2 = sigrate(71)\n",
    "\n",
    "# List of subplot titles\n",
    "title = [\"Total\", \"Original\", \"Revised\"]\n",
    "\n",
    "# Loop through the subsample sizes and calculate the rate of significance\n",
    "# Then plot the posterior predictive distribution of the number of significant replications\n",
    "for idx, size in enumerate([total_n, rpp_protocol_n, rpp_revised_n]):\n",
    "    plt.sca(ax[idx])\n",
    "\n",
    "    # Calculate the expected rate of significance and the marginal gain, then multiply by the rate of non-significance\n",
    "    y1 = sigrate(size)\n",
    "    y = (y1 - y2) * (1 - y2)\n",
    "\n",
    "    # Binomial simulation from the posterior predictive distribution\n",
    "    draws = np.random.binomial(10, y)\n",
    "\n",
    "    # Print the expected rate and the 94% CR\n",
    "    print(\"Expected rate:\")\n",
    "    print(np.median(draws))\n",
    "    print(\"94% CR\")\n",
    "    low = np.quantile(draws, 0.03)\n",
    "    high = np.quantile(draws, 0.97)\n",
    "    print(low, high)\n",
    "\n",
    "    # Plot the histogram\n",
    "    plt.title(title[idx] + \", N=\" + str(size))\n",
    "    # pretty histogram\n",
    "    sns.histplot(\n",
    "        np.random.binomial(10, y), bins=np.linspace(-0.5, 10.5, 12), color=\"grey\"\n",
    "    )\n",
    "    # Recolor the observed bar\n",
    "    plt.gca().patches[observed[idx]].set_facecolor(\"darkred\")\n",
    "\n",
    "    # Set the x and y limits, and label the axes\n",
    "    plt.xlim(-0.5, 10.5)\n",
    "    plt.xlabel(\"# of Significant Replications\")\n",
    "    plt.ylabel(\"Posterior predictive count\")\n",
    "\n",
    "plt.tight_layout()\n",
    "# label each subplot\n",
    "ax = axs.flatten()\n",
    "for i, label in enumerate([\"A\", \"B\", \"C\", \"D\", \"E\", \"F\"]):\n",
    "    ax[i].text(\n",
    "        -0.1,\n",
    "        1.1,\n",
    "        label,\n",
    "        transform=ax[i].transAxes,\n",
    "        fontsize=16,\n",
    "        fontweight=\"bold\",\n",
    "        va=\"top\",\n",
    "    )\n",
    "\n",
    "\n",
    "plt.savefig(\"./output/figures/ML5Supplement.png\")\n"
   ]
  },
  {
   "attachments": {},
   "cell_type": "markdown",
   "metadata": {},
   "source": [
    "# Scheel and Lakens "
   ]
  },
  {
   "cell_type": "code",
   "execution_count": 29,
   "metadata": {},
   "outputs": [
    {
     "data": {
      "text/plain": [
       "array([0.18318902, 0.20146818, 0.17214625, ..., 0.23170488, 0.21236749,\n",
       "       0.21659612])"
      ]
     },
     "execution_count": 29,
     "metadata": {},
     "output_type": "execute_result"
    }
   ],
   "source": [
    "idata_rep_effort.sel(paper=\"OSC2015\").posterior[\"var\"].values.ravel()\n"
   ]
  },
  {
   "cell_type": "code",
   "execution_count": 30,
   "metadata": {},
   "outputs": [],
   "source": [
    "data_scheel = pd.read_csv('./dat/ScheelLakensRRWithN.csv')\n",
    "sample_sizes = pd.to_numeric(data_scheel['N'], errors='coerce')\n",
    "N_SL = np.round(sample_sizes.dropna().median())\n"
   ]
  },
  {
   "cell_type": "code",
   "execution_count": 31,
   "metadata": {},
   "outputs": [
    {
     "name": "stdout",
     "output_type": "stream",
     "text": [
      "Median sig\n",
      "0.5353034423712624\n",
      "94% CR\n",
      "[0.42600359 0.66562322]\n"
     ]
    }
   ],
   "source": [
    "sigma = 0.07  # Average sigma from our two estimates\n",
    "X = idata_rep_effort.sel(paper=\"OSC2015\").posterior[\"var\"].values.ravel()\n",
    "\n",
    "\n",
    "def pub_func(x):\n",
    "    tau = np.sqrt(x**2 - sigma**2)\n",
    "    return publication_rate(tau=tau, sig=sigma, eps=1, n=N_SL) #Median N from \n",
    "\n",
    "\n",
    "sig = multiprocess_N(\n",
    "    pub_func, idata_rep_effort.posterior[\"var\"].median(dim=\"paper\").values.ravel()\n",
    ")\n",
    "\n",
    "print(\"Median sig\")\n",
    "print(np.median(sig))\n",
    "print(\"94% CR\")\n",
    "print(np.quantile(sig, [0.03, 0.97]))\n"
   ]
  },
  {
   "cell_type": "markdown",
   "metadata": {},
   "source": [
    "# Protzko 2023 "
   ]
  },
  {
   "cell_type": "code",
   "execution_count": 32,
   "metadata": {},
   "outputs": [],
   "source": [
    "# Open File\n",
    "df_protzko = pd.read_csv(\"dat/Protzko2023.csv\")\n",
    "\n",
    "# Calculate full sample size\n",
    "df_protzko[\"ne\"] = df_protzko[\"n2750e\"] + df_protzko[\"n1750e\"]\n",
    "df_protzko[\"nc\"] = df_protzko[\"n2750c\"] + df_protzko[\"n1750c\"]\n",
    "# Calculate variance\n",
    "v_basic = (\n",
    "    1 / df_protzko[\"ne\"]\n",
    "    + 1 / df_protzko[\"ne\"]\n",
    "    + df_protzko[\"d\"] ** 2 / (2 * (df_protzko[\"N\"] - 2))\n",
    ")\n",
    "\n",
    "# Loop through, using methods provided by Protko et all for estimating p-values.\n",
    "temp = []\n",
    "for idx in range(v_basic.shape[0]):\n",
    "    if np.isnan(df_protzko[\"sefull\"].iloc[idx]):\n",
    "        temp.append(v_basic.iloc[idx])\n",
    "    else:\n",
    "        temp.append(df_protzko[\"sefull\"].iloc[idx] ** 2)\n",
    "df_protzko[\"v\"] = temp\n",
    "df_protzko[\"pval\"] = 2 * (1 - norm.cdf(abs(df_protzko[\"d\"] / np.sqrt(df_protzko[\"v\"]))))\n"
   ]
  },
  {
   "cell_type": "markdown",
   "metadata": {},
   "source": [
    "### Significance for confirmatory "
   ]
  },
  {
   "cell_type": "code",
   "execution_count": 33,
   "metadata": {},
   "outputs": [
    {
     "name": "stdout",
     "output_type": "stream",
     "text": [
      "Rate of significance in original studies\n",
      "13 of 16\n",
      "Simulated:\n",
      "Median: 14.0\n",
      "94% CR: [11. 16.]\n"
     ]
    }
   ],
   "source": [
    "originals = df_protzko[df_protzko[\"confirmation\"] == 1]\n",
    "print(\"Rate of significance in original studies\")\n",
    "print(str((originals[\"pval\"] < 0.05).sum()) + \" of \" + str(originals.shape[0]))\n",
    "\n",
    "# Simulate significance for originals\n",
    "def pub_func(x):\n",
    "    tau = np.sqrt(x**2 - sigma**2)\n",
    "    return publication_rate(tau=tau, sig=sigma, eps=1, n=originals[\"N\"].median())\n",
    "\n",
    "\n",
    "sig_orig = multiprocess_N(\n",
    "    pub_func, idata_rep_effort.posterior[\"var\"].median(dim=\"paper\").values.ravel()\n",
    ")\n",
    "sig_orig_sim = np.random.binomial(originals.shape[0], sig_orig)\n",
    "print(\"Simulated:\")\n",
    "print(\"Median: \" + str(np.median(sig_orig_sim)))\n",
    "print(\"94% CR: \" + str(np.quantile(sig_orig_sim, [0.03, 0.97])))\n"
   ]
  },
  {
   "cell_type": "code",
   "execution_count": 34,
   "metadata": {},
   "outputs": [
    {
     "name": "stdout",
     "output_type": "stream",
     "text": [
      "Rate of significance in replication studies\n",
      "54 of 64\n"
     ]
    },
    {
     "name": "stdout",
     "output_type": "stream",
     "text": [
      "Simulated:\n",
      "Median: 55.0\n",
      "94% CR: [48. 60.]\n"
     ]
    }
   ],
   "source": [
    "### Significance for AllReplications\n",
    "# Total significance for replications.\n",
    "reps = df_protzko[df_protzko[\"confirmation\"] == 0]\n",
    "print(\"Rate of significance in replication studies\")\n",
    "print(str((reps[\"pval\"] < 0.05).sum()) + \" of \" + str(reps.shape[0]))\n",
    "\n",
    "# Simulate significance for replications\n",
    "def pub_func(x):\n",
    "    tau = np.sqrt(x**2 - sigma**2)\n",
    "    return publication_rate(tau=tau, sig=sigma, eps=1, n=reps[\"N\"].median())\n",
    "\n",
    "\n",
    "sig_rep = multiprocess_N(\n",
    "    pub_func, idata_rep_effort.posterior[\"var\"].median(dim=\"paper\").values.ravel()\n",
    ")\n",
    "sig_rep_sim = np.random.binomial(reps.shape[0], sig_rep)\n",
    "print(\"Simulated:\")\n",
    "print(\"Median: \" + str(np.median(sig_rep_sim)))\n",
    "print(\"94% CR: \" + str(np.quantile(sig_rep_sim, [0.03, 0.97])))\n"
   ]
  },
  {
   "cell_type": "markdown",
   "metadata": {},
   "source": [
    "### Independent replications of significant confirmatory studies "
   ]
  },
  {
   "cell_type": "code",
   "execution_count": 35,
   "metadata": {},
   "outputs": [
    {
     "name": "stdout",
     "output_type": "stream",
     "text": [
      "Simulated rep:\n",
      "Median: 34.0\n",
      "94% CR: [29. 37.]\n"
     ]
    }
   ],
   "source": [
    "# #Identify studies for which the confirmation is significant, drop those.\n",
    "originals = df_protzko[df_protzko[\"confirmation\"] == 1]\n",
    "studies_to_drop = originals[originals[\"pval\"] > 0.05][\"study\"]\n",
    "df_protzko = df_protzko[~df_protzko[\"study\"].isin(studies_to_drop)]\n",
    "\n",
    "# Include only independent replications.\n",
    "df_protzko = df_protzko[df_protzko[\"selfrep\"] == 0]\n",
    "df_protzko = df_protzko[df_protzko[\"confirmation\"] == 0]\n",
    "\n",
    "\n",
    "def rep_func(x):\n",
    "    sigma = 0.07  # From linden\n",
    "    tau = np.sqrt(x**2 - sigma**2)\n",
    "    return replicate_rate(tau=tau, sig=sigma, eps=1, n=df_protzko[\"N\"].median())\n",
    "\n",
    "\n",
    "rep_rep = multiprocess_N(\n",
    "    rep_func, idata_rep_effort.posterior[\"var\"].median(dim=\"paper\").values.ravel()\n",
    ")\n",
    "rep_rep_sim = np.random.binomial(df_protzko.shape[0], rep_rep)\n",
    "print(\"Simulated rep:\")\n",
    "print(\"Median: \" + str(np.median(rep_rep_sim)))\n",
    "print(\"94% CR: \" + str(np.quantile(rep_rep_sim, [0.03, 0.97])))\n"
   ]
  },
  {
   "cell_type": "code",
   "execution_count": 36,
   "metadata": {},
   "outputs": [],
   "source": [
    "X = idata_rep_effort.posterior[\"var\"].median(dim=\"paper\").values.ravel()\n",
    "\n",
    "\n",
    "def sign_func2(x):\n",
    "    sigma = 0.07\n",
    "    tau = np.sqrt(x**2 - sigma**2)\n",
    "    return sign_error2(tau=tau, sig=sigma, eps=1, n=df_protzko[\"N\"].median())\n",
    "\n",
    "\n",
    "sign = multiprocess_N(sign_func2, X)\n",
    "\n",
    "\n",
    "sign = np.random.binomial(39, sign)\n",
    "print(\"Median sig\")\n",
    "print(np.median(sign))\n",
    "print(\"94% CR\")\n",
    "print(np.quantile(sign, [0.03, 0.97]))\n"
   ]
  },
  {
   "cell_type": "code",
   "execution_count": null,
   "metadata": {},
   "outputs": [
    {
     "name": "stderr",
     "output_type": "stream",
     "text": [
      "/home/joseph/anaconda3/envs/rep_surveys/lib/python3.10/site-packages/scipy/integrate/_quadpack_py.py:1272: IntegrationWarning: The integral is probably divergent, or slowly convergent.\n",
      "  quad_r = quad(f, low, high, args=args, full_output=self.full_output,\n",
      "/home/joseph/anaconda3/envs/rep_surveys/lib/python3.10/site-packages/scipy/integrate/_quadpack_py.py:1272: IntegrationWarning: The integral is probably divergent, or slowly convergent.\n",
      "  quad_r = quad(f, low, high, args=args, full_output=self.full_output,\n",
      "/home/joseph/anaconda3/envs/rep_surveys/lib/python3.10/site-packages/scipy/integrate/_quadpack_py.py:1272: IntegrationWarning: The integral is probably divergent, or slowly convergent.\n",
      "  quad_r = quad(f, low, high, args=args, full_output=self.full_output,\n",
      "/home/joseph/anaconda3/envs/rep_surveys/lib/python3.10/site-packages/scipy/integrate/_quadpack_py.py:1272: IntegrationWarning: The integral is probably divergent, or slowly convergent.\n",
      "  quad_r = quad(f, low, high, args=args, full_output=self.full_output,\n"
     ]
    },
    {
     "data": {
      "image/png": "[encoded data removed]",
      "text/plain": [
       "<Figure size 800x800 with 4 Axes>"
      ]
     },
     "metadata": {},
     "output_type": "display_data"
    }
   ],
   "source": [
    "from src.theory_sims import *\n",
    "import string\n",
    "\n",
    "sns.set_context(\"paper\", font_scale=1.25)\n",
    "sns.set_style(\"white\")\n",
    "\n",
    "\n",
    "def plot_fun_temp():\n",
    "    # logscale x\n",
    "    plt.xscale(\"log\")\n",
    "    plt.xlim(10, 10000)\n",
    "    plt.ylim(0, 1)\n",
    "    plt.xlabel(\"Sample Size\")\n",
    "    # natural units\n",
    "    # plt.xticks([10, 100, 1000, 10000], [10, 100, 1000, 10000])\n",
    "\n",
    "\n",
    "# Define multiprocessing functions\n",
    "def rep_func(x):\n",
    "    return replicate_rate(tau=tau, sig=sigma, eps=1, n=x)\n",
    "\n",
    "\n",
    "def sign_func(x):\n",
    "    return sign_error(tau=tau, sig=sigma, eps=1, n=x)\n",
    "\n",
    "\n",
    "def mag_func(x):\n",
    "\n",
    "    return magnitude_error(tau=tau, sig=sigma, eps=1, n=x)\n",
    "\n",
    "\n",
    "X = idata_rep_effort.posterior[\"var\"].median()\n",
    "\n",
    "n_sim = np.logspace(1.3, 4, 40).astype(int)\n",
    "# gridspec 2x2\n",
    "fig, ax = plt.subplots(2, 2, figsize=(8, 8))\n",
    "# ravel ax\n",
    "ax = ax.ravel()\n",
    "plt.sca(ax[0])\n",
    "ls_list = [\"-\", \"--\", \"-.\", \":\"]\n",
    "sigma = 0.09\n",
    "tau = np.sqrt(X**2 - sigma**2)\n",
    "\n",
    "\n",
    "def pub_func(x):\n",
    "    return publication_rate(tau=tau, sig=sigma, eps=1, n=x)\n",
    "\n",
    "\n",
    "sig = multiprocess_N(pub_func, n_sim)\n",
    "plt.plot(n_sim, sig, color=\"k\")\n",
    "\n",
    "plot_fun_temp()\n",
    "plt.ylabel(r\"$P(p < .05)$\")\n",
    "\n",
    "plt.sca(ax[1])\n",
    "labels = [\"Protzko Et al 2023 (.07)\", \"Linden and Hönekopp (.09)\"]\n",
    "X = idata_rep_effort.posterior[\"var\"].median()\n",
    "cmap = sns.color_palette(\"mako\", n_colors=3)\n",
    "for idx, sigma in enumerate([0.01, 0.09]):\n",
    "    tau = np.sqrt(X**2 - sigma**2)\n",
    "\n",
    "    def rep_func(x):\n",
    "        return replicate_rate(tau=tau, sig=sigma, eps=1, n=x)\n",
    "\n",
    "    sig = multiprocess_N(rep_func, n_sim)\n",
    "    plt.plot(n_sim, sig, ls=ls_list[idx], color=cmap[1], label=labels[idx])\n",
    "    # logscale x\n",
    "    plt.xscale(\"log\")\n",
    "\n",
    "plot_fun_temp()\n",
    "plt.ylabel(r\"$Pr(replicate)$\")\n",
    "\n",
    "plt.sca(ax[2])\n",
    "cmap = sns.color_palette(\"rocket\", n_colors=3)\n",
    "sigma = 0.09\n",
    "tau = np.sqrt(X**2 - sigma**2)\n",
    "\n",
    "\n",
    "def sign_func(x):\n",
    "    return sign_error(tau=tau, sig=sigma, eps=1, n=x)\n",
    "\n",
    "\n",
    "rep = multiprocess_N(sign_func, n_sim)\n",
    "plt.plot(n_sim, rep, ls=ls_list[idx], c=cmap[idx], label=labels[idx])\n",
    "# logscale x\n",
    "plt.xscale(\"log\")\n",
    "\n",
    "plot_fun_temp()\n",
    "plt.ylabel(r\"$Pr(Sign Error)$\")\n",
    "\n",
    "plt.sca(ax[3])\n",
    "cmap = sns.color_palette(\"ch:start=1.3,rot=-.1\", n_colors=3)\n",
    "sigma = 0.09\n",
    "tau = np.sqrt(X**2 - sigma**2)\n",
    "\n",
    "\n",
    "def mag_func(x):\n",
    "    return magnitude_error(tau=tau, sig=sigma, eps=1, n=x)\n",
    "\n",
    "\n",
    "rep = multiprocess_N(mag_func, n_sim)\n",
    "plt.plot(n_sim, rep, ls=ls_list[idx], c=cmap[idx], label=labels[idx])\n",
    "# logscale x\n",
    "plt.xscale(\"log\")\n",
    "plt.plot([10, 10000], [1, 1], color=\"k\", ls=\"--\")\n",
    "\n",
    "# plot_fun_temp()\n",
    "plt.ylabel(\"Magnitude Error\")\n",
    "plot_fun_temp()\n",
    "plt.ylim(0, 4)\n",
    "# label A-D\n",
    "\n",
    "for n, ax in enumerate(ax.flatten()):\n",
    "    ax.text(\n",
    "        -0.1,\n",
    "        1.1,\n",
    "        string.ascii_uppercase[n],\n",
    "        transform=ax.transAxes,\n",
    "        size=20,\n",
    "        weight=\"bold\",\n",
    "    )\n",
    "    ax.set_xlim(20, 10000)\n",
    "\n",
    "plt.tight_layout()\n",
    "plt.savefig(\"./output/figures/TauSigmaSimsPsych.png\", dpi=300)\n"
   ]
  }
 ],
 "metadata": {
  "kernelspec": {
   "display_name": "rep_surveys",
   "language": "python",
   "name": "rep_surveys"
  },
  "language_info": {
   "codemirror_mode": {
    "name": "ipython",
    "version": 3
   },
   "file_extension": ".py",
   "mimetype": "text/x-python",
   "name": "python",
   "nbconvert_exporter": "python",
   "pygments_lexer": "ipython3",
   "version": "3.1.undefined"
  },
  "orig_nbformat": 4,
  "vscode": {
   "interpreter": {
    "hash": "4de2727d1e75ee32c806f0abbc44559e5fc9d5ae6660707dabc04fc495ac93df"
   }
  }
 },
 "nbformat": 4,
 "nbformat_minor": 2
}
